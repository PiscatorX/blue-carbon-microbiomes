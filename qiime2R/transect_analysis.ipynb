{
 "cells": [
  {
   "cell_type": "code",
   "execution_count": 1,
   "id": "c2c47099-3c2b-4f5f-9bba-d4da57019976",
   "metadata": {
    "tags": []
   },
   "outputs": [
    {
     "name": "stderr",
     "output_type": "stream",
     "text": [
      "Loading required package: ggpp\n",
      "\n",
      "Loading required package: ggplot2\n",
      "\n",
      "\n",
      "Attaching package: 'ggpp'\n",
      "\n",
      "\n",
      "The following object is masked from 'package:ggplot2':\n",
      "\n",
      "    annotate\n",
      "\n",
      "\n",
      "Registered S3 method overwritten by 'ggpmisc':\n",
      "  method                  from   \n",
      "  as.character.polynomial polynom\n",
      "\n",
      "\n",
      "Attaching package: 'dplyr'\n",
      "\n",
      "\n",
      "The following objects are masked from 'package:stats':\n",
      "\n",
      "    filter, lag\n",
      "\n",
      "\n",
      "The following objects are masked from 'package:base':\n",
      "\n",
      "    intersect, setdiff, setequal, union\n",
      "\n",
      "\n",
      "\n",
      "Attaching package: 'rstatix'\n",
      "\n",
      "\n",
      "The following object is masked from 'package:stats':\n",
      "\n",
      "    filter\n",
      "\n",
      "\n"
     ]
    }
   ],
   "source": [
    "library(ggpmisc)\n",
    "library(readxl)\n",
    "library(ggpubr)\n",
    "library(dplyr)\n",
    "library(ggdist)\n",
    "library(rstatix)"
   ]
  },
  {
   "cell_type": "code",
   "execution_count": 2,
   "id": "4d5ff5cc-1562-4683-bc78-dbebfeabb606",
   "metadata": {},
   "outputs": [],
   "source": [
    "CHNS_Dataset <- readxl::read_excel(\"CHNS_Dataset.xlsx\")  %>%\n",
    "                dplyr::mutate(Habitat = factor(Habitat))  %>%\n",
    "                dplyr::mutate(reach = factor(Site, levels = c('Upper','Middle','Lower'))) %>%\n",
    "                dplyr::mutate(Veg = factor(Veg, levels = c(\"Saltmarsh\",\"IntertidalSeagrass\", \"SubtidalSeagrass\")))"
   ]
  },
  {
   "cell_type": "code",
   "execution_count": 3,
   "id": "7b47a6a5-cf9e-47d8-9247-db38df0e531d",
   "metadata": {},
   "outputs": [],
   "source": [
    "#Set the distance for saltmarsh as negative\n",
    "CHNS_Dataset[CHNS_Dataset$Veg == \"Saltmarsh\",]$Distance =   -(CHNS_Dataset[CHNS_Dataset$Veg == \"Saltmarsh\",]$Distance)"
   ]
  },
  {
   "cell_type": "code",
   "execution_count": 4,
   "id": "f5e246f0-471d-44d1-b97d-f6f0b3e39825",
   "metadata": {},
   "outputs": [
    {
     "data": {
      "text/html": [
       "<style>\n",
       ".list-inline {list-style: none; margin:0; padding: 0}\n",
       ".list-inline>li {display: inline-block}\n",
       ".list-inline>li:not(:last-child)::after {content: \"\\00b7\"; padding: 0 .5ex}\n",
       "</style>\n",
       "<ol class=list-inline><li>'Upper'</li><li>'Middle'</li><li>'Lower'</li></ol>\n"
      ],
      "text/latex": [
       "\\begin{enumerate*}\n",
       "\\item 'Upper'\n",
       "\\item 'Middle'\n",
       "\\item 'Lower'\n",
       "\\end{enumerate*}\n"
      ],
      "text/markdown": [
       "1. 'Upper'\n",
       "2. 'Middle'\n",
       "3. 'Lower'\n",
       "\n",
       "\n"
      ],
      "text/plain": [
       "[1] \"Upper\"  \"Middle\" \"Lower\" "
      ]
     },
     "metadata": {},
     "output_type": "display_data"
    }
   ],
   "source": [
    "unique(CHNS_Dataset$Site)"
   ]
  },
  {
   "cell_type": "code",
   "execution_count": 5,
   "id": "0d1b32bb-1482-4b24-a276-b91528c15698",
   "metadata": {},
   "outputs": [
    {
     "name": "stdout",
     "output_type": "stream",
     "text": [
      "tibble [117 x 18] (S3: tbl_df/tbl/data.frame)\n",
      " $ Tray_Number   : chr [1:117] \"Tiaan Tray1 A1\" \"Tiaan Tray1 A2\" \"Tiaan Tray1 A3\" \"Tiaan Tray1 A4\" ...\n",
      " $ Sample_ID     : chr [1:117] \"SM1-T1-D5\" \"SM1-T1-D3\" \"SM1-T1-D1\" \"SM1-T1-D0.5\" ...\n",
      " $ Habitat       : Factor w/ 2 levels \"Saltmarsh\",\"Seagrass\": 1 1 1 1 1 1 1 1 1 1 ...\n",
      " $ Veg           : Factor w/ 3 levels \"Saltmarsh\",\"IntertidalSeagrass\",..: 1 1 1 1 1 1 1 1 1 1 ...\n",
      " $ Site          : chr [1:117] \"Upper\" \"Upper\" \"Upper\" \"Upper\" ...\n",
      " $ Transect      : chr [1:117] \"T1\" \"T1\" \"T1\" \"T1\" ...\n",
      " $ Distance      : num [1:117] -5 -3 -1 -0.5 0 -5 -3 -1 -0.5 0 ...\n",
      " $ Number        : num [1:117] 1 2 3 4 5 6 7 8 9 10 ...\n",
      " $ Weight_mg     : num [1:117] 81.2 61.1 60.9 68.1 64.4 ...\n",
      " $ N_percent     : num [1:117] 0.66 0.55 0.48 0.42 0.32 0.66 0.94 0.51 0.43 0.41 ...\n",
      " $ C_percent     : num [1:117] 5.82 4.83 3.82 3.3 1.97 5.22 8.79 3.89 3.24 2.36 ...\n",
      " $ H_percent     : num [1:117] 1.53 1.59 1.43 1.6 1.14 ...\n",
      " $ S_percent     : num [1:117] 0.177 0.195 0.146 0.12 0.066 0.187 0.26 0.147 0.214 0.109 ...\n",
      " $ Wet_mass      : num [1:117] 24.7 25 26 26.2 26.7 ...\n",
      " $ Dry_mass      : num [1:117] 9.86 9.69 10.98 11.84 13.62 ...\n",
      " $ Volume        : num [1:117] 20 20 20 20 20 20 19 20 20 20 ...\n",
      " $ Depth_interval: num [1:117] 5 5 5 5 5 5 5 5 5 5 ...\n",
      " $ reach         : Factor w/ 3 levels \"Upper\",\"Middle\",..: 1 1 1 1 1 1 1 1 1 1 ...\n"
     ]
    }
   ],
   "source": [
    "#Check the dataframe\n",
    "str(CHNS_Dataset)"
   ]
  },
  {
   "cell_type": "code",
   "execution_count": 6,
   "id": "46925976-d93c-425f-944d-143a7bf71ebb",
   "metadata": {},
   "outputs": [],
   "source": [
    "#setup colour for vegetation types\n",
    "Veg_cols <- c(\"Orange4\", \"Springgreen1\", \"Green4\")\n",
    "names(Veg_cols) <- c(\"Saltmarsh\", \"IntertidalSeagrass\", \"SubtidalSeagrass\")\n",
    "#labels for legend\n",
    "veg_labels = c(\"Saltmarsh\", \"Intertidal seagrass\", \"Subtidal seagrass\")\n",
    "names(veg_labels) <- c(\"Saltmarsh\", \"IntertidalSeagrass\", \"SubtidalSeagrass\")"
   ]
  },
  {
   "cell_type": "code",
   "execution_count": 7,
   "id": "4266792a-f18e-47b8-9968-bb0a9ede5fa4",
   "metadata": {},
   "outputs": [],
   "source": [
    "legend_labels = c('Upper','Middle','Lower',veg_labels)\n",
    "names(legend_labels)[1:3] <- c('Upper','Middle','Lower')"
   ]
  },
  {
   "cell_type": "code",
   "execution_count": 8,
   "id": "1157c0a2-c3d8-416b-91b0-e1efa52a48bb",
   "metadata": {},
   "outputs": [
    {
     "data": {
      "text/html": [
       "<style>\n",
       ".dl-inline {width: auto; margin:0; padding: 0}\n",
       ".dl-inline>dt, .dl-inline>dd {float: none; width: auto; display: inline-block}\n",
       ".dl-inline>dt::after {content: \":\\0020\"; padding-right: .5ex}\n",
       ".dl-inline>dt:not(:first-of-type) {padding-left: .5ex}\n",
       "</style><dl class=dl-inline><dt>Upper</dt><dd>'Upper'</dd><dt>Middle</dt><dd>'Middle'</dd><dt>Lower</dt><dd>'Lower'</dd><dt>Saltmarsh</dt><dd>'Saltmarsh'</dd><dt>IntertidalSeagrass</dt><dd>'Intertidal seagrass'</dd><dt>SubtidalSeagrass</dt><dd>'Subtidal seagrass'</dd></dl>\n"
      ],
      "text/latex": [
       "\\begin{description*}\n",
       "\\item[Upper] 'Upper'\n",
       "\\item[Middle] 'Middle'\n",
       "\\item[Lower] 'Lower'\n",
       "\\item[Saltmarsh] 'Saltmarsh'\n",
       "\\item[IntertidalSeagrass] 'Intertidal seagrass'\n",
       "\\item[SubtidalSeagrass] 'Subtidal seagrass'\n",
       "\\end{description*}\n"
      ],
      "text/markdown": [
       "Upper\n",
       ":   'Upper'Middle\n",
       ":   'Middle'Lower\n",
       ":   'Lower'Saltmarsh\n",
       ":   'Saltmarsh'IntertidalSeagrass\n",
       ":   'Intertidal seagrass'SubtidalSeagrass\n",
       ":   'Subtidal seagrass'\n",
       "\n"
      ],
      "text/plain": [
       "                Upper                Middle                 Lower \n",
       "              \"Upper\"              \"Middle\"               \"Lower\" \n",
       "            Saltmarsh    IntertidalSeagrass      SubtidalSeagrass \n",
       "          \"Saltmarsh\" \"Intertidal seagrass\"   \"Subtidal seagrass\" "
      ]
     },
     "metadata": {},
     "output_type": "display_data"
    }
   ],
   "source": [
    "legend_labels"
   ]
  },
  {
   "cell_type": "code",
   "execution_count": 20,
   "id": "17503abf-ca1e-4ef2-a2d4-b218b4699377",
   "metadata": {},
   "outputs": [
    {
     "data": {
      "image/png": "[encoded data removed]",
      "text/plain": [
       "plot without title"
      ]
     },
     "metadata": {
      "image/png": {
       "height": 420,
       "width": 420
      }
     },
     "output_type": "display_data"
    }
   ],
   "source": [
    "ggplot(data = CHNS_Dataset, aes(x = Distance, y = C_percent, shape = Transect, colour  = Veg, group = Transect),) + \n",
    "    geom_line(aes(color=Transect), alpha = 0.75, linewidth = 1) +\n",
    "    geom_point(size = 3,  alpha = 0.5) +\n",
    "    labs(y = expression(paste(C[org],\"(%)\")), x  = \"Distance (m)\") +\n",
    "    scale_colour_manual(values = Veg_cols, labels = veg_labels, , name = \"Vegetation type\") +\n",
    "    theme(panel.grid.minor = element_blank(),\n",
    "              legend.key.size = unit(1,'cm'),\n",
    "              panel.background = element_blank(),\n",
    "              strip.background = element_rect(colour = \"black\", fill=NA, size=1),\n",
    "              strip.text = element_text(size = 12, colour = \"black\"),\n",
    "              axis.text = element_text(size = 12, colour = \"#434343\"),\n",
    "              axis.title = element_text(size = 12,colour = \"black\"),\n",
    "              panel.spacing.x = unit(0.75, \"lines\"),\n",
    "              legend.text = element_text(colour = \"black\"),\n",
    "              legend.title = element_text(colour = \"black\"),\n",
    "              legend.background  = element_rect(colour = \"black\", fill=NA, size = 0.75),\n",
    "              panel.border = element_rect(colour = \"black\", fill=NA, linewidth = 0.75)) +\n",
    "    facet_wrap(~Site + Veg, scales = \"free_x\", labeller = as_labeller(legend_labels))\n",
    "    #save plot to file\n",
    "    ggsave(\"transect_plot.pdf\", width = 8, height = 6)"
   ]
  },
  {
   "cell_type": "code",
   "execution_count": 19,
   "id": "944754ac-3d2e-4827-8831-4d5d93356da4",
   "metadata": {},
   "outputs": [
    {
     "name": "stderr",
     "output_type": "stream",
     "text": [
      "Warning message:\n",
      "\"\u001b[1m\u001b[22mRemoved 25 rows containing missing values (`geom_point()`).\"\n",
      "Warning message:\n",
      "\"\u001b[1m\u001b[22mRemoved 25 rows containing missing values (`geom_point()`).\"\n"
     ]
    },
    {
     "data": {
      "image/png": "[encoded data removed]",
      "text/plain": [
       "plot without title"
      ]
     },
     "metadata": {
      "image/png": {
       "height": 420,
       "width": 420
      }
     },
     "output_type": "display_data"
    }
   ],
   "source": [
    "#changing the axis to zoom into seagrass\n",
    "#just to see and understand what is going on\n",
    "ggplot(data = CHNS_Dataset, aes(x = Distance, y = C_percent, shape = Transect, colour  = Veg, group = Transect),) + \n",
    "    geom_line(aes(color=Transect), alpha = 0.75, linewidth = 1) +\n",
    "    geom_point(size = 3,  alpha = 0.5) +\n",
    "    labs(y = expression(paste(C[org],\"(%)\")), x  = \"Distance (m)\") +\n",
    "    scale_colour_manual(values = Veg_cols, labels = veg_labels, , name = \"Vegetation type\") +\n",
    "    theme(panel.grid.minor = element_blank(),\n",
    "              legend.key.size = unit(1,'cm'),\n",
    "              panel.background = element_blank(),\n",
    "              strip.background = element_rect(colour = \"black\", fill=NA, size=1),\n",
    "              strip.text = element_text(size = 12, colour = \"black\"),\n",
    "              axis.text = element_text(size = 12, colour = \"#434343\"),\n",
    "              axis.title = element_text(size = 12,colour = \"black\"),\n",
    "              panel.spacing.x = unit(0.75, \"lines\"),\n",
    "              legend.text = element_text(colour = \"black\"),\n",
    "              legend.title = element_text(colour = \"black\"),\n",
    "              legend.background  = element_rect(colour = \"black\", fill=NA, size = 0.75),\n",
    "              panel.border = element_rect(colour = \"black\", fill=NA, linewidth = 0.75)) +\n",
    "    facet_wrap(~Site + Veg, scales = \"free_x\", labeller = as_labeller(legend_labels)) + ylim(limit = c(0, 3))\n",
    "    #save plot to file\n",
    "    ggsave(\"transect_plot_SG.pdf\", width = 8, height = 6)"
   ]
  },
  {
   "cell_type": "code",
   "execution_count": 10,
   "id": "9db547ac-caec-466a-ae77-1fd650c66987",
   "metadata": {},
   "outputs": [
    {
     "data": {
      "text/html": [
       "<table class=\"dataframe\">\n",
       "<caption>A cor_test: 9 × 8</caption>\n",
       "<thead>\n",
       "\t<tr><th scope=col>Veg</th><th scope=col>Site</th><th scope=col>var1</th><th scope=col>var2</th><th scope=col>cor</th><th scope=col>statistic</th><th scope=col>p</th><th scope=col>method</th></tr>\n",
       "\t<tr><th scope=col>&lt;fct&gt;</th><th scope=col>&lt;chr&gt;</th><th scope=col>&lt;chr&gt;</th><th scope=col>&lt;chr&gt;</th><th scope=col>&lt;dbl&gt;</th><th scope=col>&lt;dbl&gt;</th><th scope=col>&lt;dbl&gt;</th><th scope=col>&lt;chr&gt;</th></tr>\n",
       "</thead>\n",
       "<tbody>\n",
       "\t<tr><td>Saltmarsh         </td><td>Lower </td><td>Distance</td><td>C_percent</td><td>-0.200</td><td> 670.37673</td><td>4.81e-01</td><td>Spearman</td></tr>\n",
       "\t<tr><td>Saltmarsh         </td><td>Middle</td><td>Distance</td><td>C_percent</td><td>-0.200</td><td> 673.13793</td><td>4.70e-01</td><td>Spearman</td></tr>\n",
       "\t<tr><td>Saltmarsh         </td><td>Upper </td><td>Distance</td><td>C_percent</td><td>-0.940</td><td>1085.46868</td><td>2.31e-07</td><td>Spearman</td></tr>\n",
       "\t<tr><td>IntertidalSeagrass</td><td>Lower </td><td>Distance</td><td>C_percent</td><td> 0.220</td><td> 224.24781</td><td>5.00e-01</td><td>Spearman</td></tr>\n",
       "\t<tr><td>IntertidalSeagrass</td><td>Middle</td><td>Distance</td><td>C_percent</td><td> 0.790</td><td>  60.20941</td><td>2.26e-03</td><td>Spearman</td></tr>\n",
       "\t<tr><td>IntertidalSeagrass</td><td>Upper </td><td>Distance</td><td>C_percent</td><td>-0.740</td><td> 496.32548</td><td>6.42e-03</td><td>Spearman</td></tr>\n",
       "\t<tr><td>SubtidalSeagrass  </td><td>Lower </td><td>Distance</td><td>C_percent</td><td> 0.350</td><td> 187.19649</td><td>2.71e-01</td><td>Spearman</td></tr>\n",
       "\t<tr><td>SubtidalSeagrass  </td><td>Middle</td><td>Distance</td><td>C_percent</td><td>-0.065</td><td> 304.55813</td><td>8.41e-01</td><td>Spearman</td></tr>\n",
       "\t<tr><td>SubtidalSeagrass  </td><td>Upper </td><td>Distance</td><td>C_percent</td><td> 0.340</td><td> 189.77811</td><td>2.85e-01</td><td>Spearman</td></tr>\n",
       "</tbody>\n",
       "</table>\n"
      ],
      "text/latex": [
       "A cor\\_test: 9 × 8\n",
       "\\begin{tabular}{llllllll}\n",
       " Veg & Site & var1 & var2 & cor & statistic & p & method\\\\\n",
       " <fct> & <chr> & <chr> & <chr> & <dbl> & <dbl> & <dbl> & <chr>\\\\\n",
       "\\hline\n",
       "\t Saltmarsh          & Lower  & Distance & C\\_percent & -0.200 &  670.37673 & 4.81e-01 & Spearman\\\\\n",
       "\t Saltmarsh          & Middle & Distance & C\\_percent & -0.200 &  673.13793 & 4.70e-01 & Spearman\\\\\n",
       "\t Saltmarsh          & Upper  & Distance & C\\_percent & -0.940 & 1085.46868 & 2.31e-07 & Spearman\\\\\n",
       "\t IntertidalSeagrass & Lower  & Distance & C\\_percent &  0.220 &  224.24781 & 5.00e-01 & Spearman\\\\\n",
       "\t IntertidalSeagrass & Middle & Distance & C\\_percent &  0.790 &   60.20941 & 2.26e-03 & Spearman\\\\\n",
       "\t IntertidalSeagrass & Upper  & Distance & C\\_percent & -0.740 &  496.32548 & 6.42e-03 & Spearman\\\\\n",
       "\t SubtidalSeagrass   & Lower  & Distance & C\\_percent &  0.350 &  187.19649 & 2.71e-01 & Spearman\\\\\n",
       "\t SubtidalSeagrass   & Middle & Distance & C\\_percent & -0.065 &  304.55813 & 8.41e-01 & Spearman\\\\\n",
       "\t SubtidalSeagrass   & Upper  & Distance & C\\_percent &  0.340 &  189.77811 & 2.85e-01 & Spearman\\\\\n",
       "\\end{tabular}\n"
      ],
      "text/markdown": [
       "\n",
       "A cor_test: 9 × 8\n",
       "\n",
       "| Veg &lt;fct&gt; | Site &lt;chr&gt; | var1 &lt;chr&gt; | var2 &lt;chr&gt; | cor &lt;dbl&gt; | statistic &lt;dbl&gt; | p &lt;dbl&gt; | method &lt;chr&gt; |\n",
       "|---|---|---|---|---|---|---|---|\n",
       "| Saltmarsh          | Lower  | Distance | C_percent | -0.200 |  670.37673 | 4.81e-01 | Spearman |\n",
       "| Saltmarsh          | Middle | Distance | C_percent | -0.200 |  673.13793 | 4.70e-01 | Spearman |\n",
       "| Saltmarsh          | Upper  | Distance | C_percent | -0.940 | 1085.46868 | 2.31e-07 | Spearman |\n",
       "| IntertidalSeagrass | Lower  | Distance | C_percent |  0.220 |  224.24781 | 5.00e-01 | Spearman |\n",
       "| IntertidalSeagrass | Middle | Distance | C_percent |  0.790 |   60.20941 | 2.26e-03 | Spearman |\n",
       "| IntertidalSeagrass | Upper  | Distance | C_percent | -0.740 |  496.32548 | 6.42e-03 | Spearman |\n",
       "| SubtidalSeagrass   | Lower  | Distance | C_percent |  0.350 |  187.19649 | 2.71e-01 | Spearman |\n",
       "| SubtidalSeagrass   | Middle | Distance | C_percent | -0.065 |  304.55813 | 8.41e-01 | Spearman |\n",
       "| SubtidalSeagrass   | Upper  | Distance | C_percent |  0.340 |  189.77811 | 2.85e-01 | Spearman |\n",
       "\n"
      ],
      "text/plain": [
       "  Veg                Site   var1     var2      cor    statistic  p       \n",
       "1 Saltmarsh          Lower  Distance C_percent -0.200  670.37673 4.81e-01\n",
       "2 Saltmarsh          Middle Distance C_percent -0.200  673.13793 4.70e-01\n",
       "3 Saltmarsh          Upper  Distance C_percent -0.940 1085.46868 2.31e-07\n",
       "4 IntertidalSeagrass Lower  Distance C_percent  0.220  224.24781 5.00e-01\n",
       "5 IntertidalSeagrass Middle Distance C_percent  0.790   60.20941 2.26e-03\n",
       "6 IntertidalSeagrass Upper  Distance C_percent -0.740  496.32548 6.42e-03\n",
       "7 SubtidalSeagrass   Lower  Distance C_percent  0.350  187.19649 2.71e-01\n",
       "8 SubtidalSeagrass   Middle Distance C_percent -0.065  304.55813 8.41e-01\n",
       "9 SubtidalSeagrass   Upper  Distance C_percent  0.340  189.77811 2.85e-01\n",
       "  method  \n",
       "1 Spearman\n",
       "2 Spearman\n",
       "3 Spearman\n",
       "4 Spearman\n",
       "5 Spearman\n",
       "6 Spearman\n",
       "7 Spearman\n",
       "8 Spearman\n",
       "9 Spearman"
      ]
     },
     "metadata": {},
     "output_type": "display_data"
    }
   ],
   "source": [
    "#Since the data is not normal we use a spearman correlation\n",
    "#can just put report the table or generate a plot\n",
    "CHNS_Dataset %>%\n",
    "dplyr::group_by(Veg, Site) %>%\n",
    "rstatix::cor_test(Distance, C_percent, method = \"spearman\")"
   ]
  },
  {
   "cell_type": "code",
   "execution_count": 11,
   "id": "d86543bd-700e-42f1-8ccd-1ed282395f75",
   "metadata": {},
   "outputs": [
    {
     "data": {
      "text/html": [
       "<table class=\"dataframe\">\n",
       "<caption>A rstatix_test: 9 × 8</caption>\n",
       "<thead>\n",
       "\t<tr><th></th><th scope=col>Veg</th><th scope=col>Site</th><th scope=col>.y.</th><th scope=col>n</th><th scope=col>statistic</th><th scope=col>df</th><th scope=col>p</th><th scope=col>method</th></tr>\n",
       "\t<tr><th></th><th scope=col>&lt;fct&gt;</th><th scope=col>&lt;chr&gt;</th><th scope=col>&lt;chr&gt;</th><th scope=col>&lt;int&gt;</th><th scope=col>&lt;dbl&gt;</th><th scope=col>&lt;dbl&gt;</th><th scope=col>&lt;dbl&gt;</th><th scope=col>&lt;chr&gt;</th></tr>\n",
       "</thead>\n",
       "<tbody>\n",
       "\t<tr><th scope=row>1</th><td>Saltmarsh         </td><td>Lower </td><td>C_percent</td><td>3</td><td> 5.627119</td><td>4</td><td>0.22877956</td><td>Friedman test</td></tr>\n",
       "\t<tr><th scope=row>2</th><td>Saltmarsh         </td><td>Middle</td><td>C_percent</td><td>3</td><td> 7.466667</td><td>4</td><td>0.11318817</td><td>Friedman test</td></tr>\n",
       "\t<tr><th scope=row>3</th><td>Saltmarsh         </td><td>Upper </td><td>C_percent</td><td>3</td><td>11.466667</td><td>4</td><td>0.02179090</td><td>Friedman test</td></tr>\n",
       "\t<tr><th scope=row>4</th><td>IntertidalSeagrass</td><td>Lower </td><td>C_percent</td><td>3</td><td> 1.800000</td><td>3</td><td>0.61493494</td><td>Friedman test</td></tr>\n",
       "\t<tr><th scope=row>5</th><td>IntertidalSeagrass</td><td>Middle</td><td>C_percent</td><td>3</td><td> 8.200000</td><td>3</td><td>0.04205418</td><td>Friedman test</td></tr>\n",
       "\t<tr><th scope=row>6</th><td>IntertidalSeagrass</td><td>Upper </td><td>C_percent</td><td>3</td><td> 5.800000</td><td>3</td><td>0.12175662</td><td>Friedman test</td></tr>\n",
       "\t<tr><th scope=row>7</th><td>SubtidalSeagrass  </td><td>Lower </td><td>C_percent</td><td>3</td><td> 5.800000</td><td>3</td><td>0.12175662</td><td>Friedman test</td></tr>\n",
       "\t<tr><th scope=row>8</th><td>SubtidalSeagrass  </td><td>Middle</td><td>C_percent</td><td>3</td><td> 1.000000</td><td>3</td><td>0.80125196</td><td>Friedman test</td></tr>\n",
       "\t<tr><th scope=row>9</th><td>SubtidalSeagrass  </td><td>Upper </td><td>C_percent</td><td>3</td><td> 2.678571</td><td>3</td><td>0.44388115</td><td>Friedman test</td></tr>\n",
       "</tbody>\n",
       "</table>\n"
      ],
      "text/latex": [
       "A rstatix\\_test: 9 × 8\n",
       "\\begin{tabular}{r|llllllll}\n",
       "  & Veg & Site & .y. & n & statistic & df & p & method\\\\\n",
       "  & <fct> & <chr> & <chr> & <int> & <dbl> & <dbl> & <dbl> & <chr>\\\\\n",
       "\\hline\n",
       "\t1 & Saltmarsh          & Lower  & C\\_percent & 3 &  5.627119 & 4 & 0.22877956 & Friedman test\\\\\n",
       "\t2 & Saltmarsh          & Middle & C\\_percent & 3 &  7.466667 & 4 & 0.11318817 & Friedman test\\\\\n",
       "\t3 & Saltmarsh          & Upper  & C\\_percent & 3 & 11.466667 & 4 & 0.02179090 & Friedman test\\\\\n",
       "\t4 & IntertidalSeagrass & Lower  & C\\_percent & 3 &  1.800000 & 3 & 0.61493494 & Friedman test\\\\\n",
       "\t5 & IntertidalSeagrass & Middle & C\\_percent & 3 &  8.200000 & 3 & 0.04205418 & Friedman test\\\\\n",
       "\t6 & IntertidalSeagrass & Upper  & C\\_percent & 3 &  5.800000 & 3 & 0.12175662 & Friedman test\\\\\n",
       "\t7 & SubtidalSeagrass   & Lower  & C\\_percent & 3 &  5.800000 & 3 & 0.12175662 & Friedman test\\\\\n",
       "\t8 & SubtidalSeagrass   & Middle & C\\_percent & 3 &  1.000000 & 3 & 0.80125196 & Friedman test\\\\\n",
       "\t9 & SubtidalSeagrass   & Upper  & C\\_percent & 3 &  2.678571 & 3 & 0.44388115 & Friedman test\\\\\n",
       "\\end{tabular}\n"
      ],
      "text/markdown": [
       "\n",
       "A rstatix_test: 9 × 8\n",
       "\n",
       "| <!--/--> | Veg &lt;fct&gt; | Site &lt;chr&gt; | .y. &lt;chr&gt; | n &lt;int&gt; | statistic &lt;dbl&gt; | df &lt;dbl&gt; | p &lt;dbl&gt; | method &lt;chr&gt; |\n",
       "|---|---|---|---|---|---|---|---|---|\n",
       "| 1 | Saltmarsh          | Lower  | C_percent | 3 |  5.627119 | 4 | 0.22877956 | Friedman test |\n",
       "| 2 | Saltmarsh          | Middle | C_percent | 3 |  7.466667 | 4 | 0.11318817 | Friedman test |\n",
       "| 3 | Saltmarsh          | Upper  | C_percent | 3 | 11.466667 | 4 | 0.02179090 | Friedman test |\n",
       "| 4 | IntertidalSeagrass | Lower  | C_percent | 3 |  1.800000 | 3 | 0.61493494 | Friedman test |\n",
       "| 5 | IntertidalSeagrass | Middle | C_percent | 3 |  8.200000 | 3 | 0.04205418 | Friedman test |\n",
       "| 6 | IntertidalSeagrass | Upper  | C_percent | 3 |  5.800000 | 3 | 0.12175662 | Friedman test |\n",
       "| 7 | SubtidalSeagrass   | Lower  | C_percent | 3 |  5.800000 | 3 | 0.12175662 | Friedman test |\n",
       "| 8 | SubtidalSeagrass   | Middle | C_percent | 3 |  1.000000 | 3 | 0.80125196 | Friedman test |\n",
       "| 9 | SubtidalSeagrass   | Upper  | C_percent | 3 |  2.678571 | 3 | 0.44388115 | Friedman test |\n",
       "\n"
      ],
      "text/plain": [
       "  Veg                Site   .y.       n statistic df p          method       \n",
       "1 Saltmarsh          Lower  C_percent 3  5.627119 4  0.22877956 Friedman test\n",
       "2 Saltmarsh          Middle C_percent 3  7.466667 4  0.11318817 Friedman test\n",
       "3 Saltmarsh          Upper  C_percent 3 11.466667 4  0.02179090 Friedman test\n",
       "4 IntertidalSeagrass Lower  C_percent 3  1.800000 3  0.61493494 Friedman test\n",
       "5 IntertidalSeagrass Middle C_percent 3  8.200000 3  0.04205418 Friedman test\n",
       "6 IntertidalSeagrass Upper  C_percent 3  5.800000 3  0.12175662 Friedman test\n",
       "7 SubtidalSeagrass   Lower  C_percent 3  5.800000 3  0.12175662 Friedman test\n",
       "8 SubtidalSeagrass   Middle C_percent 3  1.000000 3  0.80125196 Friedman test\n",
       "9 SubtidalSeagrass   Upper  C_percent 3  2.678571 3  0.44388115 Friedman test"
      ]
     },
     "metadata": {},
     "output_type": "display_data"
    }
   ],
   "source": [
    "CHNS_Dataset %>%\n",
    "dplyr::group_by(Veg, Site) %>%\n",
    "#convert distance to a factor to allow for comparisons across transects\n",
    "convert_as_factor(Distance) %>%\n",
    "#a formula of the form a ~ b | c, where a (numeric) is the dependent variable name; b is the within-subjects factor variables; and c (factor) is the column name containing individuals/subjects identifier. Should be unique per individual.\n",
    "friedman_test(C_percent ~  Distance|Transect )"
   ]
  },
  {
   "cell_type": "code",
   "execution_count": 12,
   "id": "fdc128d1-7efa-4e99-a9b2-ff4590e921f9",
   "metadata": {},
   "outputs": [],
   "source": [
    "sub_setx <- CHNS_Dataset %>%\n",
    "            convert_as_factor(Distance,Transect) %>%\n",
    "            dplyr::filter(Veg == \"Saltmarsh\" & Site == \"Upper\") %>%\n",
    "            dplyr::select(C_percent, Distance, Transect) %>%\n",
    "            as.matrix()"
   ]
  },
  {
   "cell_type": "code",
   "execution_count": 13,
   "id": "58c9ea40-e29d-402e-bf1e-8b3ae9ecc2e6",
   "metadata": {},
   "outputs": [
    {
     "data": {
      "text/plain": [
       "\n",
       "\tFriedman rank sum test\n",
       "\n",
       "data:  C_percent and Distance and Transect\n",
       "Friedman chi-squared = 11.467, df = 4, p-value = 0.02179\n"
      ]
     },
     "metadata": {},
     "output_type": "display_data"
    }
   ],
   "source": [
    "(fd_test <- friedman.test(C_percent ~  Distance|Transect, data = as.matrix(sub_setx)))"
   ]
  },
  {
   "cell_type": "code",
   "execution_count": 14,
   "id": "5823970b-d528-4727-a720-6287317a92b5",
   "metadata": {},
   "outputs": [
    {
     "data": {
      "text/html": [
       "<table class=\"dataframe\">\n",
       "<caption>A rstatix_test: 9 × 8</caption>\n",
       "<thead>\n",
       "\t<tr><th></th><th scope=col>Veg</th><th scope=col>Site</th><th scope=col>.y.</th><th scope=col>n</th><th scope=col>statistic</th><th scope=col>df</th><th scope=col>p</th><th scope=col>method</th></tr>\n",
       "\t<tr><th></th><th scope=col>&lt;fct&gt;</th><th scope=col>&lt;chr&gt;</th><th scope=col>&lt;chr&gt;</th><th scope=col>&lt;int&gt;</th><th scope=col>&lt;dbl&gt;</th><th scope=col>&lt;int&gt;</th><th scope=col>&lt;dbl&gt;</th><th scope=col>&lt;chr&gt;</th></tr>\n",
       "</thead>\n",
       "<tbody>\n",
       "\t<tr><th scope=row>1</th><td>Saltmarsh         </td><td>Lower </td><td>C_percent</td><td>15</td><td>1.8330935</td><td>2</td><td>0.4000</td><td>Kruskal-Wallis</td></tr>\n",
       "\t<tr><th scope=row>2</th><td>Saltmarsh         </td><td>Middle</td><td>C_percent</td><td>15</td><td>0.6661896</td><td>2</td><td>0.7170</td><td>Kruskal-Wallis</td></tr>\n",
       "\t<tr><th scope=row>3</th><td>Saltmarsh         </td><td>Upper </td><td>C_percent</td><td>15</td><td>0.1400000</td><td>2</td><td>0.9320</td><td>Kruskal-Wallis</td></tr>\n",
       "\t<tr><th scope=row>4</th><td>IntertidalSeagrass</td><td>Lower </td><td>C_percent</td><td>12</td><td>2.5769231</td><td>2</td><td>0.2760</td><td>Kruskal-Wallis</td></tr>\n",
       "\t<tr><th scope=row>5</th><td>IntertidalSeagrass</td><td>Middle</td><td>C_percent</td><td>12</td><td>0.7236842</td><td>2</td><td>0.6960</td><td>Kruskal-Wallis</td></tr>\n",
       "\t<tr><th scope=row>6</th><td>IntertidalSeagrass</td><td>Upper </td><td>C_percent</td><td>12</td><td>0.3570175</td><td>2</td><td>0.8370</td><td>Kruskal-Wallis</td></tr>\n",
       "\t<tr><th scope=row>7</th><td>SubtidalSeagrass  </td><td>Lower </td><td>C_percent</td><td>12</td><td>8.7692308</td><td>2</td><td>0.0125</td><td>Kruskal-Wallis</td></tr>\n",
       "\t<tr><th scope=row>8</th><td>SubtidalSeagrass  </td><td>Middle</td><td>C_percent</td><td>12</td><td>3.3675439</td><td>2</td><td>0.1860</td><td>Kruskal-Wallis</td></tr>\n",
       "\t<tr><th scope=row>9</th><td>SubtidalSeagrass  </td><td>Upper </td><td>C_percent</td><td>12</td><td>5.3348057</td><td>2</td><td>0.0694</td><td>Kruskal-Wallis</td></tr>\n",
       "</tbody>\n",
       "</table>\n"
      ],
      "text/latex": [
       "A rstatix\\_test: 9 × 8\n",
       "\\begin{tabular}{r|llllllll}\n",
       "  & Veg & Site & .y. & n & statistic & df & p & method\\\\\n",
       "  & <fct> & <chr> & <chr> & <int> & <dbl> & <int> & <dbl> & <chr>\\\\\n",
       "\\hline\n",
       "\t1 & Saltmarsh          & Lower  & C\\_percent & 15 & 1.8330935 & 2 & 0.4000 & Kruskal-Wallis\\\\\n",
       "\t2 & Saltmarsh          & Middle & C\\_percent & 15 & 0.6661896 & 2 & 0.7170 & Kruskal-Wallis\\\\\n",
       "\t3 & Saltmarsh          & Upper  & C\\_percent & 15 & 0.1400000 & 2 & 0.9320 & Kruskal-Wallis\\\\\n",
       "\t4 & IntertidalSeagrass & Lower  & C\\_percent & 12 & 2.5769231 & 2 & 0.2760 & Kruskal-Wallis\\\\\n",
       "\t5 & IntertidalSeagrass & Middle & C\\_percent & 12 & 0.7236842 & 2 & 0.6960 & Kruskal-Wallis\\\\\n",
       "\t6 & IntertidalSeagrass & Upper  & C\\_percent & 12 & 0.3570175 & 2 & 0.8370 & Kruskal-Wallis\\\\\n",
       "\t7 & SubtidalSeagrass   & Lower  & C\\_percent & 12 & 8.7692308 & 2 & 0.0125 & Kruskal-Wallis\\\\\n",
       "\t8 & SubtidalSeagrass   & Middle & C\\_percent & 12 & 3.3675439 & 2 & 0.1860 & Kruskal-Wallis\\\\\n",
       "\t9 & SubtidalSeagrass   & Upper  & C\\_percent & 12 & 5.3348057 & 2 & 0.0694 & Kruskal-Wallis\\\\\n",
       "\\end{tabular}\n"
      ],
      "text/markdown": [
       "\n",
       "A rstatix_test: 9 × 8\n",
       "\n",
       "| <!--/--> | Veg &lt;fct&gt; | Site &lt;chr&gt; | .y. &lt;chr&gt; | n &lt;int&gt; | statistic &lt;dbl&gt; | df &lt;int&gt; | p &lt;dbl&gt; | method &lt;chr&gt; |\n",
       "|---|---|---|---|---|---|---|---|---|\n",
       "| 1 | Saltmarsh          | Lower  | C_percent | 15 | 1.8330935 | 2 | 0.4000 | Kruskal-Wallis |\n",
       "| 2 | Saltmarsh          | Middle | C_percent | 15 | 0.6661896 | 2 | 0.7170 | Kruskal-Wallis |\n",
       "| 3 | Saltmarsh          | Upper  | C_percent | 15 | 0.1400000 | 2 | 0.9320 | Kruskal-Wallis |\n",
       "| 4 | IntertidalSeagrass | Lower  | C_percent | 12 | 2.5769231 | 2 | 0.2760 | Kruskal-Wallis |\n",
       "| 5 | IntertidalSeagrass | Middle | C_percent | 12 | 0.7236842 | 2 | 0.6960 | Kruskal-Wallis |\n",
       "| 6 | IntertidalSeagrass | Upper  | C_percent | 12 | 0.3570175 | 2 | 0.8370 | Kruskal-Wallis |\n",
       "| 7 | SubtidalSeagrass   | Lower  | C_percent | 12 | 8.7692308 | 2 | 0.0125 | Kruskal-Wallis |\n",
       "| 8 | SubtidalSeagrass   | Middle | C_percent | 12 | 3.3675439 | 2 | 0.1860 | Kruskal-Wallis |\n",
       "| 9 | SubtidalSeagrass   | Upper  | C_percent | 12 | 5.3348057 | 2 | 0.0694 | Kruskal-Wallis |\n",
       "\n"
      ],
      "text/plain": [
       "  Veg                Site   .y.       n  statistic df p      method        \n",
       "1 Saltmarsh          Lower  C_percent 15 1.8330935 2  0.4000 Kruskal-Wallis\n",
       "2 Saltmarsh          Middle C_percent 15 0.6661896 2  0.7170 Kruskal-Wallis\n",
       "3 Saltmarsh          Upper  C_percent 15 0.1400000 2  0.9320 Kruskal-Wallis\n",
       "4 IntertidalSeagrass Lower  C_percent 12 2.5769231 2  0.2760 Kruskal-Wallis\n",
       "5 IntertidalSeagrass Middle C_percent 12 0.7236842 2  0.6960 Kruskal-Wallis\n",
       "6 IntertidalSeagrass Upper  C_percent 12 0.3570175 2  0.8370 Kruskal-Wallis\n",
       "7 SubtidalSeagrass   Lower  C_percent 12 8.7692308 2  0.0125 Kruskal-Wallis\n",
       "8 SubtidalSeagrass   Middle C_percent 12 3.3675439 2  0.1860 Kruskal-Wallis\n",
       "9 SubtidalSeagrass   Upper  C_percent 12 5.3348057 2  0.0694 Kruskal-Wallis"
      ]
     },
     "metadata": {},
     "output_type": "display_data"
    }
   ],
   "source": [
    "#remove the distance to check if there significant differences\n",
    "CHNS_Dataset %>%\n",
    "dplyr::group_by(Veg, Site) %>%\n",
    "kruskal_test(C_percent ~ Transect )"
   ]
  }
 ],
 "metadata": {
  "kernelspec": {
   "display_name": "R",
   "language": "R",
   "name": "ir"
  },
  "language_info": {
   "codemirror_mode": "r",
   "file_extension": ".r",
   "mimetype": "text/x-r-source",
   "name": "R",
   "pygments_lexer": "r",
   "version": "4.1.3"
  }
 },
 "nbformat": 4,
 "nbformat_minor": 5
}
