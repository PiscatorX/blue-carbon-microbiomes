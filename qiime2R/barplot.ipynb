{
 "cells": [
  {
   "cell_type": "code",
   "execution_count": 1,
   "id": "bef2bbb1-b673-4001-aede-9b43a0305c9c",
   "metadata": {
    "tags": []
   },
   "outputs": [
    {
     "name": "stderr",
     "output_type": "stream",
     "text": [
      "Loading required package: phyloseq\n",
      "\n",
      "Loading required package: ggplot2\n",
      "\n",
      "\n",
      "microbiome R package (microbiome.github.com)\n",
      "    \n",
      "\n",
      "\n",
      " Copyright (C) 2011-2021 Leo Lahti, \n",
      "    Sudarshan Shetty et al. <microbiome.github.io>\n",
      "\n",
      "\n",
      "\n",
      "Attaching package: 'microbiome'\n",
      "\n",
      "\n",
      "The following object is masked from 'package:ggplot2':\n",
      "\n",
      "    alpha\n",
      "\n",
      "\n",
      "The following object is masked from 'package:base':\n",
      "\n",
      "    transform\n",
      "\n",
      "\n",
      "\n",
      "Attaching package: 'dplyr'\n",
      "\n",
      "\n",
      "The following objects are masked from 'package:stats':\n",
      "\n",
      "    filter, lag\n",
      "\n",
      "\n",
      "The following objects are masked from 'package:base':\n",
      "\n",
      "    intersect, setdiff, setequal, union\n",
      "\n",
      "\n"
     ]
    }
   ],
   "source": [
    "library(microbiome)\n",
    "library(phyloseq)\n",
    "library(ggplot2)\n",
    "library(tibble)\n",
    "library(dplyr)"
   ]
  },
  {
   "cell_type": "code",
   "execution_count": 2,
   "id": "a1a2c104-e6fd-4880-b48d-23fdc0832e33",
   "metadata": {},
   "outputs": [
    {
     "name": "stderr",
     "output_type": "stream",
     "text": [
      "Warning message:\n",
      "\"\u001b[1m\u001b[22mExpected 7 pieces. Missing pieces filled with `NA` in 18661 rows [1, 2, 5, 6, 8, 9, 11, 12, 14, 15, 16, 21, 22, 24, 25, 30, 31, 32, 33, 34, ...].\"\n"
     ]
    }
   ],
   "source": [
    "metadata_Rew <- read.table(file = \"R files/Carbon_analysis/sample-metadata3.txt\", sep = \"\\t\", header =  T, skip = 1)\n",
    "#The first line has column numbers so we use skip =1  to skip that line\n",
    "#remember to check your sample numbers \n",
    "metadata_raw <- read.table(file = \"R files/Carbon_analysis/sample-metadata3.txt\", sep = \"\\t\", header =  T, skip = 1)%>%\n",
    "                mutate(sample_ref = sample.id) %>%  \n",
    "                dplyr::select(-sample_ID) %>%\n",
    "                tidyr::separate(sample_ref, into = c(\"read_prefix\", \"Sample_ID\",\" replicate_id\"), sep =  \"[.]\") %>%\n",
    "                mutate(Sample_ID = stringi::stri_replace_last_fixed(Sample_ID, \"_\", \"\"))\n",
    "metadata_sediment <- metadata_raw %>% dplyr::select(sample.id, Sample_ID) \n",
    "rownames(metadata_sediment) <- metadata_sediment$sample.id\n",
    "#list of the 45 samples identifier no replicates\n",
    "otu_sediment <- read.table(file = \"feature-table.tsv\", sep = \"\\t\", header = T, row.names = 1, skip = 1, comment.char = \"\")\n",
    "tax_sediment_raw <- read.table(file = \"taxonomy.tsv\", sep = \"\\t\", header = T ,row.names = 1)\n",
    "tax_sediment <- tax_sediment_raw %>% \n",
    "                tidyr::separate(Taxon, c(\"Kingdom\", \"Phylum\", \"Class\", \"Order\", \"Family\", \"Genus\", \"Species\"), sep = \"; \") %>%\n",
    "                dplyr::mutate(across(1:7, ~ stringr::str_replace_all(.x, \"^[dkpcofgs]__\",\"\"))) %>%\n",
    "                dplyr::select(1:7)"
   ]
  },
  {
   "cell_type": "code",
   "execution_count": 3,
   "id": "82230869-d056-4e08-8209-6196f72c9c16",
   "metadata": {},
   "outputs": [],
   "source": [
    "OTU_sediment <- otu_table(as.matrix(otu_sediment), taxa_are_rows = TRUE)\n",
    "TAX_sediment <- tax_table(as.matrix(tax_sediment))\n",
    "SAMPLE_sediment <- sample_data(metadata_sediment)"
   ]
  },
  {
   "cell_type": "code",
   "execution_count": 4,
   "id": "d072c42e-b392-4981-80da-5334d38775da",
   "metadata": {},
   "outputs": [
    {
     "data": {
      "text/plain": [
       "phyloseq-class experiment-level object\n",
       "otu_table()   OTU Table:         [ 48190 taxa and 135 samples ]\n",
       "sample_data() Sample Data:       [ 135 samples by 2 sample variables ]\n",
       "tax_table()   Taxonomy Table:    [ 48190 taxa by 7 taxonomic ranks ]"
      ]
     },
     "metadata": {},
     "output_type": "display_data"
    }
   ],
   "source": [
    "(ps_sediment_all <- phyloseq(OTU_sediment, TAX_sediment, SAMPLE_sediment))"
   ]
  },
  {
   "cell_type": "code",
   "execution_count": 5,
   "id": "8a0cd90b-07e0-4d3d-be42-228a8e15cabe",
   "metadata": {},
   "outputs": [
    {
     "name": "stderr",
     "output_type": "stream",
     "text": [
      "Warning message:\n",
      "\"\u001b[1m\u001b[22mExpected 7 pieces. Missing pieces filled with `NA` in 1552 rows [1, 2, 4, 5, 6, 8, 12, 13, 15, 16, 17, 19, 20, 24, 25, 26, 27, 28, 29, 30, ...].\"\n"
     ]
    }
   ],
   "source": [
    "#water data\n",
    "metadata_water <-   read.table(file = \"water//sample-metadata.tsv\", sep = \"\\t\", header =  T) %>%\n",
    "                    dplyr::mutate(sample_ref = sample.id)  %>%\n",
    "                    tidyr::separate(sample_ref, into = c(\"read_prefix\", \"Sample_ID\"), sep =  \"[.]\") %>%\n",
    "                    select(sample.id, Sample_ID, estuary.reach,\tecosystem, sediment.water) \n",
    "row.names(metadata_water) <- metadata_water$sample.id\n",
    "otu_water <- read.table(file = \"water//feature-table.tsv\", sep = \"\\t\", header = T, row.names = 1, skip = 1, comment.char = \"\")\n",
    "tax_water_raw <- read.table(file = \"water//taxonomy.tsv\", sep = \"\\t\", header = T ,row.names = 1)\n",
    "tax_water <- tax_water_raw %>% \n",
    "             tidyr::separate(Taxon, c(\"Kingdom\", \"Phylum\", \"Class\", \"Order\", \"Family\", \"Genus\", \"Species\"), sep = \"; \") %>%\n",
    "             dplyr::mutate(across(1:7, ~ stringr::str_replace_all(.x, \"^[dkpcofgs]__\",\"\"))) %>%\n",
    "             dplyr::select(1:7)"
   ]
  },
  {
   "cell_type": "code",
   "execution_count": 6,
   "id": "956d029e-a1bb-43ec-b619-73e8bc757719",
   "metadata": {},
   "outputs": [],
   "source": [
    "OTU_water <- otu_table(as.matrix(otu_water), taxa_are_rows = TRUE)\n",
    "TAX_water <- tax_table(as.matrix(tax_water))\n",
    "SAMPLE_water <- sample_data(metadata_water)"
   ]
  },
  {
   "cell_type": "code",
   "execution_count": 7,
   "id": "ab735f5e-965b-4f1d-b24e-e1ada05204a0",
   "metadata": {},
   "outputs": [
    {
     "data": {
      "text/plain": [
       "phyloseq-class experiment-level object\n",
       "otu_table()   OTU Table:         [ 3636 taxa and 9 samples ]\n",
       "sample_data() Sample Data:       [ 9 samples by 5 sample variables ]\n",
       "tax_table()   Taxonomy Table:    [ 3636 taxa by 7 taxonomic ranks ]"
      ]
     },
     "metadata": {},
     "output_type": "display_data"
    }
   ],
   "source": [
    "#phyloseq for water\n",
    "(water_ps <- phyloseq(OTU_water, TAX_water, SAMPLE_water))"
   ]
  },
  {
   "cell_type": "code",
   "execution_count": 8,
   "id": "dbbe6665-0053-44be-80cc-4105016005dd",
   "metadata": {},
   "outputs": [
    {
     "name": "stderr",
     "output_type": "stream",
     "text": [
      "Warning message in asMethod(object):\n",
      "\"NAs introduced by coercion\"\n",
      "Warning message in asMethod(object):\n",
      "\"NAs introduced by coercion\"\n"
     ]
    },
    {
     "data": {
      "text/plain": [
       "phyloseq-class experiment-level object\n",
       "otu_table()   OTU Table:         [ 48190 taxa and 45 samples ]\n",
       "sample_data() Sample Data:       [ 45 samples by 2 sample variables ]\n",
       "tax_table()   Taxonomy Table:    [ 48190 taxa by 7 taxonomic ranks ]"
      ]
     },
     "metadata": {},
     "output_type": "display_data"
    }
   ],
   "source": [
    "#merge replicates by summing up all readcounts data for the given category\n",
    "(merged_ps <- merge_samples(ps_sediment_all, \"Sample_ID\"))"
   ]
  },
  {
   "cell_type": "code",
   "execution_count": 9,
   "id": "b1fee7dc-c290-415e-b4ae-ff6086411837",
   "metadata": {},
   "outputs": [
    {
     "data": {
      "text/html": [
       "<table class=\"dataframe\">\n",
       "<caption>A sample_data: 6 × 2</caption>\n",
       "<thead>\n",
       "\t<tr><th></th><th scope=col>sample.id</th><th scope=col>Sample_ID</th></tr>\n",
       "\t<tr><th></th><th scope=col>&lt;dbl&gt;</th><th scope=col>&lt;dbl&gt;</th></tr>\n",
       "</thead>\n",
       "<tbody>\n",
       "\t<tr><th scope=row>LWR_MN1</th><td>NA</td><td>NA</td></tr>\n",
       "\t<tr><th scope=row>LWR_MN2</th><td>NA</td><td>NA</td></tr>\n",
       "\t<tr><th scope=row>LWR_MN3</th><td>NA</td><td>NA</td></tr>\n",
       "\t<tr><th scope=row>LWR_MN4</th><td>NA</td><td>NA</td></tr>\n",
       "\t<tr><th scope=row>LWR_MN5</th><td>NA</td><td>NA</td></tr>\n",
       "\t<tr><th scope=row>LWR_SG1</th><td>NA</td><td>NA</td></tr>\n",
       "</tbody>\n",
       "</table>\n"
      ],
      "text/latex": [
       "A sample\\_data: 6 × 2\n",
       "\\begin{tabular}{r|ll}\n",
       "  & sample.id & Sample\\_ID\\\\\n",
       "  & <dbl> & <dbl>\\\\\n",
       "\\hline\n",
       "\tLWR\\_MN1 & NA & NA\\\\\n",
       "\tLWR\\_MN2 & NA & NA\\\\\n",
       "\tLWR\\_MN3 & NA & NA\\\\\n",
       "\tLWR\\_MN4 & NA & NA\\\\\n",
       "\tLWR\\_MN5 & NA & NA\\\\\n",
       "\tLWR\\_SG1 & NA & NA\\\\\n",
       "\\end{tabular}\n"
      ],
      "text/markdown": [
       "\n",
       "A sample_data: 6 × 2\n",
       "\n",
       "| <!--/--> | sample.id &lt;dbl&gt; | Sample_ID &lt;dbl&gt; |\n",
       "|---|---|---|\n",
       "| LWR_MN1 | NA | NA |\n",
       "| LWR_MN2 | NA | NA |\n",
       "| LWR_MN3 | NA | NA |\n",
       "| LWR_MN4 | NA | NA |\n",
       "| LWR_MN5 | NA | NA |\n",
       "| LWR_SG1 | NA | NA |\n",
       "\n"
      ],
      "text/plain": [
       "        sample.id Sample_ID\n",
       "LWR_MN1 NA        NA       \n",
       "LWR_MN2 NA        NA       \n",
       "LWR_MN3 NA        NA       \n",
       "LWR_MN4 NA        NA       \n",
       "LWR_MN5 NA        NA       \n",
       "LWR_SG1 NA        NA       "
      ]
     },
     "metadata": {},
     "output_type": "display_data"
    }
   ],
   "source": [
    "sample_data(merged_ps) %>% head()"
   ]
  },
  {
   "cell_type": "code",
   "execution_count": 10,
   "id": "94fd350d-901a-4d62-b0eb-b69f924fd32d",
   "metadata": {},
   "outputs": [],
   "source": [
    "#preparing the metadata table\n",
    "metadata_table <-  metadata_raw %>% \n",
    "                   dplyr::select_if(is.character) %>% \n",
    "                   dplyr::select(Sample_ID, estuary.reach, ecosystem, sediment.water) %>% \n",
    "                   dplyr::mutate_if(is.factor, as.character)  %>%\n",
    "                   distinct()\n",
    "row.names(metadata_table) <- metadata_table$Sample_ID"
   ]
  },
  {
   "cell_type": "code",
   "execution_count": 11,
   "id": "90246b8e-bf33-4725-b081-f76a86f192e1",
   "metadata": {},
   "outputs": [
    {
     "data": {
      "text/html": [
       "<table class=\"dataframe\">\n",
       "<caption>A data.frame: 6 × 4</caption>\n",
       "<thead>\n",
       "\t<tr><th></th><th scope=col>Sample_ID</th><th scope=col>estuary.reach</th><th scope=col>ecosystem</th><th scope=col>sediment.water</th></tr>\n",
       "\t<tr><th></th><th scope=col>&lt;chr&gt;</th><th scope=col>&lt;chr&gt;</th><th scope=col>&lt;chr&gt;</th><th scope=col>&lt;chr&gt;</th></tr>\n",
       "</thead>\n",
       "<tbody>\n",
       "\t<tr><th scope=row>LWR_SM1</th><td>LWR_SM1</td><td>Lower</td><td>Saltmarsh</td><td>Sediment</td></tr>\n",
       "\t<tr><th scope=row>LWR_SM2</th><td>LWR_SM2</td><td>Lower</td><td>Saltmarsh</td><td>Sediment</td></tr>\n",
       "\t<tr><th scope=row>LWR_SM3</th><td>LWR_SM3</td><td>Lower</td><td>Saltmarsh</td><td>Sediment</td></tr>\n",
       "\t<tr><th scope=row>LWR_SM4</th><td>LWR_SM4</td><td>Lower</td><td>Saltmarsh</td><td>Sediment</td></tr>\n",
       "\t<tr><th scope=row>LWR_SM5</th><td>LWR_SM5</td><td>Lower</td><td>Saltmarsh</td><td>Sediment</td></tr>\n",
       "\t<tr><th scope=row>LWR_MN1</th><td>LWR_MN1</td><td>Lower</td><td>Mangrove </td><td>Sediment</td></tr>\n",
       "</tbody>\n",
       "</table>\n"
      ],
      "text/latex": [
       "A data.frame: 6 × 4\n",
       "\\begin{tabular}{r|llll}\n",
       "  & Sample\\_ID & estuary.reach & ecosystem & sediment.water\\\\\n",
       "  & <chr> & <chr> & <chr> & <chr>\\\\\n",
       "\\hline\n",
       "\tLWR\\_SM1 & LWR\\_SM1 & Lower & Saltmarsh & Sediment\\\\\n",
       "\tLWR\\_SM2 & LWR\\_SM2 & Lower & Saltmarsh & Sediment\\\\\n",
       "\tLWR\\_SM3 & LWR\\_SM3 & Lower & Saltmarsh & Sediment\\\\\n",
       "\tLWR\\_SM4 & LWR\\_SM4 & Lower & Saltmarsh & Sediment\\\\\n",
       "\tLWR\\_SM5 & LWR\\_SM5 & Lower & Saltmarsh & Sediment\\\\\n",
       "\tLWR\\_MN1 & LWR\\_MN1 & Lower & Mangrove  & Sediment\\\\\n",
       "\\end{tabular}\n"
      ],
      "text/markdown": [
       "\n",
       "A data.frame: 6 × 4\n",
       "\n",
       "| <!--/--> | Sample_ID &lt;chr&gt; | estuary.reach &lt;chr&gt; | ecosystem &lt;chr&gt; | sediment.water &lt;chr&gt; |\n",
       "|---|---|---|---|---|\n",
       "| LWR_SM1 | LWR_SM1 | Lower | Saltmarsh | Sediment |\n",
       "| LWR_SM2 | LWR_SM2 | Lower | Saltmarsh | Sediment |\n",
       "| LWR_SM3 | LWR_SM3 | Lower | Saltmarsh | Sediment |\n",
       "| LWR_SM4 | LWR_SM4 | Lower | Saltmarsh | Sediment |\n",
       "| LWR_SM5 | LWR_SM5 | Lower | Saltmarsh | Sediment |\n",
       "| LWR_MN1 | LWR_MN1 | Lower | Mangrove  | Sediment |\n",
       "\n"
      ],
      "text/plain": [
       "        Sample_ID estuary.reach ecosystem sediment.water\n",
       "LWR_SM1 LWR_SM1   Lower         Saltmarsh Sediment      \n",
       "LWR_SM2 LWR_SM2   Lower         Saltmarsh Sediment      \n",
       "LWR_SM3 LWR_SM3   Lower         Saltmarsh Sediment      \n",
       "LWR_SM4 LWR_SM4   Lower         Saltmarsh Sediment      \n",
       "LWR_SM5 LWR_SM5   Lower         Saltmarsh Sediment      \n",
       "LWR_MN1 LWR_MN1   Lower         Mangrove  Sediment      "
      ]
     },
     "metadata": {},
     "output_type": "display_data"
    }
   ],
   "source": [
    "metadata_table %>% head()"
   ]
  },
  {
   "cell_type": "code",
   "execution_count": 12,
   "id": "97a660f6-ad00-475d-82c2-6028eea0f41a",
   "metadata": {
    "tags": []
   },
   "outputs": [],
   "source": [
    "#add sediment metadata as it gets lost during merge\n",
    "merged_ps <- merge_phyloseq(merged_ps, sample_data(metadata_table))"
   ]
  },
  {
   "cell_type": "code",
   "execution_count": 13,
   "id": "cdced1dd-98cd-484a-8c62-afef30432d71",
   "metadata": {},
   "outputs": [
    {
     "data": {
      "text/html": [
       "<table class=\"dataframe\">\n",
       "<caption>A sample_data: 6 × 5</caption>\n",
       "<thead>\n",
       "\t<tr><th></th><th scope=col>Sample_ID</th><th scope=col>sample.id</th><th scope=col>estuary.reach</th><th scope=col>ecosystem</th><th scope=col>sediment.water</th></tr>\n",
       "\t<tr><th></th><th scope=col>&lt;chr&gt;</th><th scope=col>&lt;dbl&gt;</th><th scope=col>&lt;chr&gt;</th><th scope=col>&lt;chr&gt;</th><th scope=col>&lt;chr&gt;</th></tr>\n",
       "</thead>\n",
       "<tbody>\n",
       "\t<tr><th scope=row>LWR_MN1</th><td>NA</td><td>NA</td><td>Lower</td><td>Mangrove</td><td>Sediment</td></tr>\n",
       "\t<tr><th scope=row>LWR_MN2</th><td>NA</td><td>NA</td><td>Lower</td><td>Mangrove</td><td>Sediment</td></tr>\n",
       "\t<tr><th scope=row>LWR_MN3</th><td>NA</td><td>NA</td><td>Lower</td><td>Mangrove</td><td>Sediment</td></tr>\n",
       "\t<tr><th scope=row>LWR_MN4</th><td>NA</td><td>NA</td><td>Lower</td><td>Mangrove</td><td>Sediment</td></tr>\n",
       "\t<tr><th scope=row>LWR_MN5</th><td>NA</td><td>NA</td><td>Lower</td><td>Mangrove</td><td>Sediment</td></tr>\n",
       "\t<tr><th scope=row>LWR_SG1</th><td>NA</td><td>NA</td><td>Lower</td><td>Seagrass</td><td>Sediment</td></tr>\n",
       "</tbody>\n",
       "</table>\n"
      ],
      "text/latex": [
       "A sample\\_data: 6 × 5\n",
       "\\begin{tabular}{r|lllll}\n",
       "  & Sample\\_ID & sample.id & estuary.reach & ecosystem & sediment.water\\\\\n",
       "  & <chr> & <dbl> & <chr> & <chr> & <chr>\\\\\n",
       "\\hline\n",
       "\tLWR\\_MN1 & NA & NA & Lower & Mangrove & Sediment\\\\\n",
       "\tLWR\\_MN2 & NA & NA & Lower & Mangrove & Sediment\\\\\n",
       "\tLWR\\_MN3 & NA & NA & Lower & Mangrove & Sediment\\\\\n",
       "\tLWR\\_MN4 & NA & NA & Lower & Mangrove & Sediment\\\\\n",
       "\tLWR\\_MN5 & NA & NA & Lower & Mangrove & Sediment\\\\\n",
       "\tLWR\\_SG1 & NA & NA & Lower & Seagrass & Sediment\\\\\n",
       "\\end{tabular}\n"
      ],
      "text/markdown": [
       "\n",
       "A sample_data: 6 × 5\n",
       "\n",
       "| <!--/--> | Sample_ID &lt;chr&gt; | sample.id &lt;dbl&gt; | estuary.reach &lt;chr&gt; | ecosystem &lt;chr&gt; | sediment.water &lt;chr&gt; |\n",
       "|---|---|---|---|---|---|\n",
       "| LWR_MN1 | NA | NA | Lower | Mangrove | Sediment |\n",
       "| LWR_MN2 | NA | NA | Lower | Mangrove | Sediment |\n",
       "| LWR_MN3 | NA | NA | Lower | Mangrove | Sediment |\n",
       "| LWR_MN4 | NA | NA | Lower | Mangrove | Sediment |\n",
       "| LWR_MN5 | NA | NA | Lower | Mangrove | Sediment |\n",
       "| LWR_SG1 | NA | NA | Lower | Seagrass | Sediment |\n",
       "\n"
      ],
      "text/plain": [
       "        Sample_ID sample.id estuary.reach ecosystem sediment.water\n",
       "LWR_MN1 NA        NA        Lower         Mangrove  Sediment      \n",
       "LWR_MN2 NA        NA        Lower         Mangrove  Sediment      \n",
       "LWR_MN3 NA        NA        Lower         Mangrove  Sediment      \n",
       "LWR_MN4 NA        NA        Lower         Mangrove  Sediment      \n",
       "LWR_MN5 NA        NA        Lower         Mangrove  Sediment      \n",
       "LWR_SG1 NA        NA        Lower         Seagrass  Sediment      "
      ]
     },
     "metadata": {},
     "output_type": "display_data"
    }
   ],
   "source": [
    "sample_data(merged_ps) %>% head()"
   ]
  },
  {
   "cell_type": "code",
   "execution_count": 14,
   "id": "2f8e028a-4c04-4e30-8151-0ecf7ee831bd",
   "metadata": {},
   "outputs": [],
   "source": [
    "#combine sediment and water\n",
    "nahoon_ps <- merge_phyloseq(merged_ps, water_ps)"
   ]
  },
  {
   "cell_type": "code",
   "execution_count": 15,
   "id": "467ab43b-bc0b-44f3-bab6-65eb5d233033",
   "metadata": {},
   "outputs": [],
   "source": [
    "#Set up to determine how many phyla to plot using the sediment data\n",
    "#can change to class\n",
    "test_ps <- merged_ps %>%\n",
    "           aggregate_taxa(level = \"Phylum\") %>%  \n",
    "           microbiome::transform(transform = \"compositional\")"
   ]
  },
  {
   "cell_type": "code",
   "execution_count": 16,
   "id": "ab5e64d9-0fcf-4ea7-b452-efc87ad3a959",
   "metadata": {},
   "outputs": [
    {
     "name": "stderr",
     "output_type": "stream",
     "text": [
      "\u001b[1m\u001b[22mSelecting by mean_rel\n"
     ]
    },
    {
     "data": {
      "text/html": [
       "<table class=\"dataframe\">\n",
       "<caption>A data.frame: 20 × 2</caption>\n",
       "<thead>\n",
       "\t<tr><th scope=col>Phylum</th><th scope=col>mean_rel</th></tr>\n",
       "\t<tr><th scope=col>&lt;chr&gt;</th><th scope=col>&lt;dbl&gt;</th></tr>\n",
       "</thead>\n",
       "<tbody>\n",
       "\t<tr><td>Proteobacteria   </td><td>0.290406155</td></tr>\n",
       "\t<tr><td>Desulfobacterota </td><td>0.113285575</td></tr>\n",
       "\t<tr><td>Chloroflexi      </td><td>0.107608890</td></tr>\n",
       "\t<tr><td>Planctomycetota  </td><td>0.101734866</td></tr>\n",
       "\t<tr><td>Bacteroidota     </td><td>0.076392366</td></tr>\n",
       "\t<tr><td>Acidobacteriota  </td><td>0.060803083</td></tr>\n",
       "\t<tr><td>Actinobacteriota </td><td>0.052099764</td></tr>\n",
       "\t<tr><td>Gemmatimonadota  </td><td>0.019497917</td></tr>\n",
       "\t<tr><td>Firmicutes       </td><td>0.019093303</td></tr>\n",
       "\t<tr><td>Verrucomicrobiota</td><td>0.018188590</td></tr>\n",
       "\t<tr><td>Latescibacterota </td><td>0.016840234</td></tr>\n",
       "\t<tr><td>Myxococcota      </td><td>0.016403754</td></tr>\n",
       "\t<tr><td>Crenarchaeota    </td><td>0.014260664</td></tr>\n",
       "\t<tr><td>Cyanobacteria    </td><td>0.014013169</td></tr>\n",
       "\t<tr><td>NB1-j            </td><td>0.013605363</td></tr>\n",
       "\t<tr><td>Calditrichota    </td><td>0.006722366</td></tr>\n",
       "\t<tr><td>Campilobacterota </td><td>0.004958600</td></tr>\n",
       "\t<tr><td>Unknown          </td><td>0.004955834</td></tr>\n",
       "\t<tr><td>Spirochaetota    </td><td>0.004249842</td></tr>\n",
       "\t<tr><td>Nitrospirota     </td><td>0.003680023</td></tr>\n",
       "</tbody>\n",
       "</table>\n"
      ],
      "text/latex": [
       "A data.frame: 20 × 2\n",
       "\\begin{tabular}{ll}\n",
       " Phylum & mean\\_rel\\\\\n",
       " <chr> & <dbl>\\\\\n",
       "\\hline\n",
       "\t Proteobacteria    & 0.290406155\\\\\n",
       "\t Desulfobacterota  & 0.113285575\\\\\n",
       "\t Chloroflexi       & 0.107608890\\\\\n",
       "\t Planctomycetota   & 0.101734866\\\\\n",
       "\t Bacteroidota      & 0.076392366\\\\\n",
       "\t Acidobacteriota   & 0.060803083\\\\\n",
       "\t Actinobacteriota  & 0.052099764\\\\\n",
       "\t Gemmatimonadota   & 0.019497917\\\\\n",
       "\t Firmicutes        & 0.019093303\\\\\n",
       "\t Verrucomicrobiota & 0.018188590\\\\\n",
       "\t Latescibacterota  & 0.016840234\\\\\n",
       "\t Myxococcota       & 0.016403754\\\\\n",
       "\t Crenarchaeota     & 0.014260664\\\\\n",
       "\t Cyanobacteria     & 0.014013169\\\\\n",
       "\t NB1-j             & 0.013605363\\\\\n",
       "\t Calditrichota     & 0.006722366\\\\\n",
       "\t Campilobacterota  & 0.004958600\\\\\n",
       "\t Unknown           & 0.004955834\\\\\n",
       "\t Spirochaetota     & 0.004249842\\\\\n",
       "\t Nitrospirota      & 0.003680023\\\\\n",
       "\\end{tabular}\n"
      ],
      "text/markdown": [
       "\n",
       "A data.frame: 20 × 2\n",
       "\n",
       "| Phylum &lt;chr&gt; | mean_rel &lt;dbl&gt; |\n",
       "|---|---|\n",
       "| Proteobacteria    | 0.290406155 |\n",
       "| Desulfobacterota  | 0.113285575 |\n",
       "| Chloroflexi       | 0.107608890 |\n",
       "| Planctomycetota   | 0.101734866 |\n",
       "| Bacteroidota      | 0.076392366 |\n",
       "| Acidobacteriota   | 0.060803083 |\n",
       "| Actinobacteriota  | 0.052099764 |\n",
       "| Gemmatimonadota   | 0.019497917 |\n",
       "| Firmicutes        | 0.019093303 |\n",
       "| Verrucomicrobiota | 0.018188590 |\n",
       "| Latescibacterota  | 0.016840234 |\n",
       "| Myxococcota       | 0.016403754 |\n",
       "| Crenarchaeota     | 0.014260664 |\n",
       "| Cyanobacteria     | 0.014013169 |\n",
       "| NB1-j             | 0.013605363 |\n",
       "| Calditrichota     | 0.006722366 |\n",
       "| Campilobacterota  | 0.004958600 |\n",
       "| Unknown           | 0.004955834 |\n",
       "| Spirochaetota     | 0.004249842 |\n",
       "| Nitrospirota      | 0.003680023 |\n",
       "\n"
      ],
      "text/plain": [
       "   Phylum            mean_rel   \n",
       "1  Proteobacteria    0.290406155\n",
       "2  Desulfobacterota  0.113285575\n",
       "3  Chloroflexi       0.107608890\n",
       "4  Planctomycetota   0.101734866\n",
       "5  Bacteroidota      0.076392366\n",
       "6  Acidobacteriota   0.060803083\n",
       "7  Actinobacteriota  0.052099764\n",
       "8  Gemmatimonadota   0.019497917\n",
       "9  Firmicutes        0.019093303\n",
       "10 Verrucomicrobiota 0.018188590\n",
       "11 Latescibacterota  0.016840234\n",
       "12 Myxococcota       0.016403754\n",
       "13 Crenarchaeota     0.014260664\n",
       "14 Cyanobacteria     0.014013169\n",
       "15 NB1-j             0.013605363\n",
       "16 Calditrichota     0.006722366\n",
       "17 Campilobacterota  0.004958600\n",
       "18 Unknown           0.004955834\n",
       "19 Spirochaetota     0.004249842\n",
       "20 Nitrospirota      0.003680023"
      ]
     },
     "metadata": {},
     "output_type": "display_data"
    }
   ],
   "source": [
    "#change number top phyla here for the top_n can keep increasing until graph looks untidy\n",
    "#disable the scientific notation \n",
    "options(scipen=999)\n",
    "(top_phyla <- data.frame(mean_rel = rowMeans(otu_table(test_ps))) %>% tibble::rownames_to_column(var = \"Phylum\") %>% dplyr::arrange(desc(mean_rel)) %>% top_n(20))"
   ]
  },
  {
   "cell_type": "code",
   "execution_count": 17,
   "id": "62d45a0a-1ee4-4689-8e04-02ed2ef90f5a",
   "metadata": {},
   "outputs": [
    {
     "data": {
      "text/plain": [
       "phyloseq-class experiment-level object\n",
       "otu_table()   OTU Table:         [ 20 taxa and 54 samples ]\n",
       "sample_data() Sample Data:       [ 54 samples by 5 sample variables ]\n",
       "tax_table()   Taxonomy Table:    [ 20 taxa by 3 taxonomic ranks ]"
      ]
     },
     "metadata": {},
     "output_type": "display_data"
    }
   ],
   "source": [
    "#use sediment top phyla to filter combined sediment\n",
    "(ps_subset <- nahoon_ps  %>%\n",
    "              aggregate_taxa(level = \"Phylum\") %>%  \n",
    "              microbiome::transform(transform = \"compositional\") %>%\n",
    "              subset_taxa(Phylum %in% top_phyla$Phylum))"
   ]
  },
  {
   "cell_type": "code",
   "execution_count": 18,
   "id": "9f2f6150-6d3f-4f32-bed3-ef1c600c8d25",
   "metadata": {},
   "outputs": [
    {
     "data": {
      "image/png": "[encoded data removed]",
      "text/plain": [
       "plot without title"
      ]
     },
     "metadata": {
      "image/png": {
       "height": 420,
       "width": 420
      }
     },
     "output_type": "display_data"
    }
   ],
   "source": [
    "plot_bar(ps_subset, fill = \"Phylum\") + facet_grid(~ estuary.reach + ecosystem, scale  = \"free_x\") +\n",
    "scale_y_continuous(label = scales::percent)\n",
    "ggsave(\"composition.pdf\", width = 10, height = 7)"
   ]
  },
  {
   "cell_type": "code",
   "execution_count": 20,
   "id": "f0b885d9-3082-4ddb-8c50-617a79164c7a",
   "metadata": {},
   "outputs": [],
   "source": [
    "##Prevalence is a measurement, which describes in how many samples certain microbes were detected.\n",
    "#Detection threshold for absence/presence (strictly greater by default).\n",
    "#aggregate_rare(merged_ps, level = 'Phylum', detection = 0.1/100, prevalence = 5/100)\n",
    "#https://f1000research.com/articles/5-1492/v2\n",
    "# Compute prevalence of each feature, store as data.frame\n",
    "#prevdf = apply(X = otu_table(nahoon_glom_phyla),\n",
    "                 # MARGIN = ifelse(taxa_are_rows(nahoon_glom_phyla), yes = 1, no = 2),\n",
    "                 # FUN = function(x){sum(x > 0)})\n",
    "# Add taxonomy and total read counts to this data.frame\n",
    "# prevdf = data.frame(Prevalence = prevdf,\n",
    "#                     Perc_Prev = prevdf/nsamples(nahoon_glom_phyla),\n",
    "#                     TotalAbundance = taxa_sums(nahoon_glom_phyla),\n",
    "#                     PercAbundance =  taxa_sums(nahoon_glom_phyla)/sum(taxa_sums(nahoon_glom_phyla)),\n",
    "#                     tax_table(nahoon_glom_phyla))"
   ]
  },
  {
   "cell_type": "code",
   "execution_count": null,
   "id": "817d3f76-da43-426f-be37-14f53c42f2c7",
   "metadata": {},
   "outputs": [],
   "source": []
  }
 ],
 "metadata": {
  "kernelspec": {
   "display_name": "R",
   "language": "R",
   "name": "ir"
  },
  "language_info": {
   "codemirror_mode": "r",
   "file_extension": ".r",
   "mimetype": "text/x-r-source",
   "name": "R",
   "pygments_lexer": "r",
   "version": "4.1.3"
  }
 },
 "nbformat": 4,
 "nbformat_minor": 5
}
