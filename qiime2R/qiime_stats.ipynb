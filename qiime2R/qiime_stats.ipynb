{
 "cells": [
  {
   "cell_type": "code",
   "execution_count": 220,
   "id": "bef2bbb1-b673-4001-aede-9b43a0305c9c",
   "metadata": {
    "tags": []
   },
   "outputs": [],
   "source": [
    "# library(ggVennDiagram)\n",
    "# library(performance)\n",
    "# library(microbiome)\n",
    "# library(genefilter)\n",
    "# library(phyloseq)\n",
    "# library(rstatix)\n",
    "# library(stringr)\n",
    "# library(ggpmisc)\n",
    "# library(tibble)\n",
    "# library(dplyr)\n",
    "# library(vegan)\n",
    "# library(gvlma)\n",
    "#https://www.yanh.org/2021/01/01/microbiome-r/\n",
    "#https://github.com/erictleung/phyloseq-cheatsheet\n",
    "#http://deneflab.github.io/MicrobeMiseq/demos/mothur_2_phyloseq.html\n",
    "#https://rstudio-pubs-static.s3.amazonaws.com/330760_8bba830836324bf6b100d4e76f49e3d2.html\n",
    "#https://micca.readthedocs.io/en/latest/phyloseq.html\n",
    "#https://www.bioconductor.org/packages/release/bioc/vignettes/phyloseq/inst/doc/phyloseq-analysis.html"
   ]
  },
  {
   "cell_type": "code",
   "execution_count": null,
   "id": "a9d3764a-2d7f-4fa1-91db-e526ac3a223b",
   "metadata": {},
   "outputs": [],
   "source": []
  },
  {
   "cell_type": "code",
   "execution_count": null,
   "id": "a1a2c104-e6fd-4880-b48d-23fdc0832e33",
   "metadata": {},
   "outputs": [],
   "source": [
    "metadata_Rew <- read.table(file = \"R files/Carbon_analysis/sample-metadata3.txt\", sep = \"\\t\", header =  T, skip = 1)"
   ]
  },
  {
   "cell_type": "code",
   "execution_count": 310,
   "id": "36734d4a-2cc3-4a4d-8a22-d9e473d02e99",
   "metadata": {},
   "outputs": [
    {
     "data": {
      "text/plain": [
       "sample_ID\n",
       "LWR_MN1 LWR_MN2 LWR_MN3 LWR_MN4 LWR_MN5 LWR_SG1 LWR_SG2 LWR_SG3 LWR_SG4 LWR_SG5 \n",
       "      6       6       6       6       6       6       6       6       6       6 \n",
       "LWR_SM1 LWR_SM2 LWR_SM3 LWR_SM4 LWR_SM5 MID_MN1 MID_MN2 MID_MN3 MID_MN4 MID_MN5 \n",
       "      6       6       6       6       6       3       3       3       3       3 \n",
       "MID_SG1 MID_SG2 MID_SG3 MID_SG4 MID_SG5 MID_SM1 MID_SM2 MID_SM3 MID_SM4 MID_SM5 \n",
       "      3       3       3       3       3       3       3       3       3       3 "
      ]
     },
     "metadata": {},
     "output_type": "display_data"
    }
   ],
   "source": [
    "xtabs(~ sample_ID, data = metadata_Rew)"
   ]
  },
  {
   "cell_type": "code",
   "execution_count": 289,
   "id": "300b80b7-196e-4adb-9492-abff6dc3558b",
   "metadata": {
    "tags": []
   },
   "outputs": [],
   "source": [
    "#The first line has column numbers so we use skip =1  to skip that line\n",
    "#remember to check your sample numbers \n",
    "metadata_raw <- read.table(file = \"R files/Carbon_analysis/sample-metadata3.txt\", sep = \"\\t\", header =  T, skip = 1)%>%\n",
    "             mutate(sample_ref = sample.id) %>%  \n",
    "             tidyr::separate(sample_ref, into = c(\"read_prefix\", \"Sample_ID\",\" replicate_id\"), sep =  \"[.]\") %>%\n",
    "             mutate_if(is.character, as.factor) %>%\n",
    "             mutate(Sample_ID = as.factor(stringi::stri_replace_last_fixed(Sample_ID, \"_\", \"\")))"
   ]
  },
  {
   "cell_type": "code",
   "execution_count": 314,
   "id": "dbf74be5-2908-4cae-9c8e-065921bcdf13",
   "metadata": {},
   "outputs": [
    {
     "data": {
      "text/plain": [
       "Sample_ID\n",
       "LWR_MN1 LWR_MN2 LWR_MN3 LWR_MN4 LWR_MN5 LWR_SG1 LWR_SG2 LWR_SG3 LWR_SG4 LWR_SG5 \n",
       "      3       3       3       3       3       3       3       3       3       3 \n",
       "LWR_SM1 LWR_SM2 LWR_SM3 LWR_SM4 LWR_SM5 MID_MN1 MID_MN2 MID_MN3 MID_MN4 MID_MN5 \n",
       "      3       3       3       3       3       3       3       3       3       3 \n",
       "MID_SG1 MID_SG2 MID_SG3 MID_SG4 MID_SG5 MID_SM1 MID_SM2 MID_SM3 MID_SM4 MID_SM5 \n",
       "      3       3       3       3       3       3       3       3       3       3 \n",
       "UPR_MN1 UPR_MN2 UPR_MN3 UPR_MN4 UPR_MN5 UPR_SG1 UPR_SG2 UPR_SG3 UPR_SG4 UPR_SG5 \n",
       "      3       3       3       3       3       3       3       3       3       3 \n",
       "UPR_SM1 UPR_SM2 UPR_SM3 UPR_SM4 UPR_SM5 \n",
       "      3       3       3       3       3 "
      ]
     },
     "metadata": {},
     "output_type": "display_data"
    }
   ],
   "source": [
    "#Take note of the difference in number of samples\n",
    "xtabs(~ Sample_ID, data = metadata_raw)"
   ]
  },
  {
   "cell_type": "code",
   "execution_count": 316,
   "id": "a6278079-1b65-468f-ab96-ae70e78d795e",
   "metadata": {},
   "outputs": [
    {
     "data": {
      "text/html": [
       "<table class=\"dataframe\">\n",
       "<caption>A data.frame: 5 × 2</caption>\n",
       "<thead>\n",
       "\t<tr><th></th><th scope=col>sample.id</th><th scope=col>Sample_ID</th></tr>\n",
       "\t<tr><th></th><th scope=col>&lt;fct&gt;</th><th scope=col>&lt;fct&gt;</th></tr>\n",
       "</thead>\n",
       "<tbody>\n",
       "\t<tr><th scope=row>RemovePrimer_Final.UPR_MN_3.1</th><td>RemovePrimer_Final.UPR_MN_3.1</td><td>UPR_MN3</td></tr>\n",
       "\t<tr><th scope=row>RemovePrimer_Final.MID_SM_2.3</th><td>RemovePrimer_Final.MID_SM_2.3</td><td>MID_SM2</td></tr>\n",
       "\t<tr><th scope=row>RemovePrimer_Final.MID_MN_5.1</th><td>RemovePrimer_Final.MID_MN_5.1</td><td>MID_MN5</td></tr>\n",
       "\t<tr><th scope=row>RemovePrimer_Final.LWR_SG_2.2</th><td>RemovePrimer_Final.LWR_SG_2.2</td><td>LWR_SG2</td></tr>\n",
       "\t<tr><th scope=row>RemovePrimer_Final.LWR_MN_1.1</th><td>RemovePrimer_Final.LWR_MN_1.1</td><td>LWR_MN1</td></tr>\n",
       "</tbody>\n",
       "</table>\n"
      ],
      "text/latex": [
       "A data.frame: 5 × 2\n",
       "\\begin{tabular}{r|ll}\n",
       "  & sample.id & Sample\\_ID\\\\\n",
       "  & <fct> & <fct>\\\\\n",
       "\\hline\n",
       "\tRemovePrimer\\_Final.UPR\\_MN\\_3.1 & RemovePrimer\\_Final.UPR\\_MN\\_3.1 & UPR\\_MN3\\\\\n",
       "\tRemovePrimer\\_Final.MID\\_SM\\_2.3 & RemovePrimer\\_Final.MID\\_SM\\_2.3 & MID\\_SM2\\\\\n",
       "\tRemovePrimer\\_Final.MID\\_MN\\_5.1 & RemovePrimer\\_Final.MID\\_MN\\_5.1 & MID\\_MN5\\\\\n",
       "\tRemovePrimer\\_Final.LWR\\_SG\\_2.2 & RemovePrimer\\_Final.LWR\\_SG\\_2.2 & LWR\\_SG2\\\\\n",
       "\tRemovePrimer\\_Final.LWR\\_MN\\_1.1 & RemovePrimer\\_Final.LWR\\_MN\\_1.1 & LWR\\_MN1\\\\\n",
       "\\end{tabular}\n"
      ],
      "text/markdown": [
       "\n",
       "A data.frame: 5 × 2\n",
       "\n",
       "| <!--/--> | sample.id &lt;fct&gt; | Sample_ID &lt;fct&gt; |\n",
       "|---|---|---|\n",
       "| RemovePrimer_Final.UPR_MN_3.1 | RemovePrimer_Final.UPR_MN_3.1 | UPR_MN3 |\n",
       "| RemovePrimer_Final.MID_SM_2.3 | RemovePrimer_Final.MID_SM_2.3 | MID_SM2 |\n",
       "| RemovePrimer_Final.MID_MN_5.1 | RemovePrimer_Final.MID_MN_5.1 | MID_MN5 |\n",
       "| RemovePrimer_Final.LWR_SG_2.2 | RemovePrimer_Final.LWR_SG_2.2 | LWR_SG2 |\n",
       "| RemovePrimer_Final.LWR_MN_1.1 | RemovePrimer_Final.LWR_MN_1.1 | LWR_MN1 |\n",
       "\n"
      ],
      "text/plain": [
       "                              sample.id                     Sample_ID\n",
       "RemovePrimer_Final.UPR_MN_3.1 RemovePrimer_Final.UPR_MN_3.1 UPR_MN3  \n",
       "RemovePrimer_Final.MID_SM_2.3 RemovePrimer_Final.MID_SM_2.3 MID_SM2  \n",
       "RemovePrimer_Final.MID_MN_5.1 RemovePrimer_Final.MID_MN_5.1 MID_MN5  \n",
       "RemovePrimer_Final.LWR_SG_2.2 RemovePrimer_Final.LWR_SG_2.2 LWR_SG2  \n",
       "RemovePrimer_Final.LWR_MN_1.1 RemovePrimer_Final.LWR_MN_1.1 LWR_MN1  "
      ]
     },
     "metadata": {},
     "output_type": "display_data"
    }
   ],
   "source": [
    "metadata3 <- metadata_raw %>% dplyr::select(sample.id, Sample_ID)\n",
    "rownames(metadata3) <- metadata3$sample.id\n",
    "sample_n(metadata3, 5)"
   ]
  },
  {
   "cell_type": "code",
   "execution_count": 317,
   "id": "45a40eb0-8494-4f2a-8003-51c094a1b664",
   "metadata": {},
   "outputs": [],
   "source": [
    "otu <- read.table(file = \"feature-table.tsv\", sep = \"\\t\", header = T, row.names = 1, skip = 1, comment.char = \"\")"
   ]
  },
  {
   "cell_type": "code",
   "execution_count": 318,
   "id": "1aa57056-5e37-4cdc-9d87-7ca4e4bf8e2f",
   "metadata": {},
   "outputs": [],
   "source": [
    "taxonomy_raw <- read.table(file = \"taxonomy.tsv\", sep = \"\\t\", header = T ,row.names = 1)"
   ]
  },
  {
   "cell_type": "code",
   "execution_count": 319,
   "id": "b6ccd415-a995-4b71-8c3d-fec20224fbdc",
   "metadata": {},
   "outputs": [
    {
     "name": "stderr",
     "output_type": "stream",
     "text": [
      "Warning message:\n",
      "\"\u001b[1m\u001b[22mExpected 7 pieces. Missing pieces filled with `NA` in 18661 rows [1, 2, 5, 6, 8, 9, 11, 12, 14, 15, 16, 21, 22, 24, 25, 30, 31, 32, 33, 34, ...].\"\n"
     ]
    }
   ],
   "source": [
    "tax <- taxonomy_raw %>% \n",
    "       tidyr::separate(Taxon, c(\"Kingdom\", \"Phylum\", \"Class\", \"Order\", \"Family\", \"Genus\", \"Species\"), sep = \"; \") %>%\n",
    "       dplyr::mutate(across(1:7, ~ stringr::str_replace_all(.x, \"^[dkpcofgs]__\",\"\"))) %>%\n",
    "       dplyr::select(1:7)"
   ]
  },
  {
   "cell_type": "code",
   "execution_count": 320,
   "id": "82230869-d056-4e08-8209-6196f72c9c16",
   "metadata": {},
   "outputs": [],
   "source": [
    "OTU <- otu_table(as.matrix(otu), taxa_are_rows = TRUE)\n",
    "TAX <- tax_table(as.matrix(tax))\n",
    "SAMPLE <- sample_data(metadata3)\n",
    "TREE <- read_tree(\"tree.nwk\")"
   ]
  },
  {
   "cell_type": "code",
   "execution_count": 321,
   "id": "d072c42e-b392-4981-80da-5334d38775da",
   "metadata": {},
   "outputs": [
    {
     "data": {
      "text/plain": [
       "phyloseq-class experiment-level object\n",
       "otu_table()   OTU Table:         [ 48190 taxa and 135 samples ]\n",
       "sample_data() Sample Data:       [ 135 samples by 2 sample variables ]\n",
       "tax_table()   Taxonomy Table:    [ 48190 taxa by 7 taxonomic ranks ]\n",
       "phy_tree()    Phylogenetic Tree: [ 48190 tips and 48077 internal nodes ]"
      ]
     },
     "metadata": {},
     "output_type": "display_data"
    }
   ],
   "source": [
    "#https://bioconductor.org/packages/release/bioc/vignettes/phyloseq/inst/doc/phyloseq-basics.html\n",
    "(ps <- phyloseq(OTU, TAX, SAMPLE,TREE))"
   ]
  },
  {
   "cell_type": "code",
   "execution_count": 322,
   "id": "dbbe6665-0053-44be-80cc-4105016005dd",
   "metadata": {},
   "outputs": [
    {
     "data": {
      "text/plain": [
       "phyloseq-class experiment-level object\n",
       "otu_table()   OTU Table:         [ 48190 taxa and 45 samples ]\n",
       "sample_data() Sample Data:       [ 45 samples by 2 sample variables ]\n",
       "tax_table()   Taxonomy Table:    [ 48190 taxa by 7 taxonomic ranks ]\n",
       "phy_tree()    Phylogenetic Tree: [ 48190 tips and 48077 internal nodes ]"
      ]
     },
     "metadata": {},
     "output_type": "display_data"
    }
   ],
   "source": [
    "#Assumes reads have been normalised\n",
    "#merge replicates by summing up all readcounts data for the given category\n",
    "#The step converts factors into numericals if need the labels they should be put in the blue carbon data\n",
    "#total ASV/taxa and reads remains the same\n",
    "(merged_ps <- merge_samples(ps, \"Sample_ID\"))"
   ]
  },
  {
   "cell_type": "code",
   "execution_count": 258,
   "id": "97a660f6-ad00-475d-82c2-6028eea0f41a",
   "metadata": {
    "tags": []
   },
   "outputs": [],
   "source": [
    "sample_data(merged_ps)$Sample_ID <- row.names(sample_data(merged_ps))"
   ]
  },
  {
   "cell_type": "code",
   "execution_count": 298,
   "id": "eda656fe-2ad4-43f8-8edd-63d8dc861f7a",
   "metadata": {},
   "outputs": [
    {
     "name": "stderr",
     "output_type": "stream",
     "text": [
      "\u001b[1mRows: \u001b[22m\u001b[34m45\u001b[39m \u001b[1mColumns: \u001b[22m\u001b[34m15\u001b[39m\n",
      "\u001b[36m--\u001b[39m \u001b[1mColumn specification\u001b[22m \u001b[36m-------------------------------------------------------------------------------------------------------------------------------------------------------------------------------------------\u001b[39m\n",
      "\u001b[1mDelimiter:\u001b[22m \";\"\n",
      "\u001b[31mchr\u001b[39m  (3): Sample_ID, ecosystem, reach\n",
      "\u001b[32mdbl\u001b[39m (12): Sample_Number, Dish_mass, wet_volume_ml, Wet_mass, Dry_mass,  Wate...\n",
      "\n",
      "\u001b[36mi\u001b[39m Use `spec()` to retrieve the full column specification for this data.\n",
      "\u001b[36mi\u001b[39m Specify the column types or set `show_col_types = FALSE` to quiet this message.\n"
     ]
    },
    {
     "data": {
      "text/html": [
       "<table class=\"dataframe\">\n",
       "<caption>A data.frame: 6 × 15</caption>\n",
       "<thead>\n",
       "\t<tr><th></th><th scope=col>Sample_Number</th><th scope=col>Sample_ID</th><th scope=col>ecosystem</th><th scope=col>reach</th><th scope=col>Dish_mass</th><th scope=col>wet_volume_ml</th><th scope=col>Wet_mass</th><th scope=col>Dry_mass</th><th scope=col>X.Water_lost.</th><th scope=col>Dry_sediment</th><th scope=col>Dry_bulk_denisty</th><th scope=col>C_percent</th><th scope=col>soil_carbon_density</th><th scope=col>carbon_in_core</th><th scope=col>Total_core_carbon</th></tr>\n",
       "\t<tr><th></th><th scope=col>&lt;dbl&gt;</th><th scope=col>&lt;fct&gt;</th><th scope=col>&lt;fct&gt;</th><th scope=col>&lt;fct&gt;</th><th scope=col>&lt;dbl&gt;</th><th scope=col>&lt;dbl&gt;</th><th scope=col>&lt;dbl&gt;</th><th scope=col>&lt;dbl&gt;</th><th scope=col>&lt;dbl&gt;</th><th scope=col>&lt;dbl&gt;</th><th scope=col>&lt;dbl&gt;</th><th scope=col>&lt;dbl&gt;</th><th scope=col>&lt;dbl&gt;</th><th scope=col>&lt;dbl&gt;</th><th scope=col>&lt;dbl&gt;</th></tr>\n",
       "</thead>\n",
       "<tbody>\n",
       "\t<tr><th scope=row>LWR_MN1</th><td>1</td><td>LWR_MN1</td><td>Mangrove</td><td>Lower</td><td>47.622</td><td>20</td><td>86.147</td><td>76.943</td><td> 9.204</td><td>29.321</td><td>1.46605</td><td>0.62</td><td>0.00908951</td><td>0.04544755</td><td>15.082560</td></tr>\n",
       "\t<tr><th scope=row>LWR_MN2</th><td>2</td><td>LWR_MN2</td><td>Mangrove</td><td>Lower</td><td>47.343</td><td>20</td><td>85.034</td><td>76.522</td><td> 8.512</td><td>29.179</td><td>1.45895</td><td>1.01</td><td>0.01473540</td><td>0.07367698</td><td>16.180257</td></tr>\n",
       "\t<tr><th scope=row>LWR_MN3</th><td>3</td><td>LWR_MN3</td><td>Mangrove</td><td>Lower</td><td>47.406</td><td>20</td><td>79.452</td><td>68.110</td><td>11.342</td><td>20.704</td><td>1.03520</td><td>1.43</td><td>0.01480336</td><td>0.07401680</td><td>19.731470</td></tr>\n",
       "\t<tr><th scope=row>LWR_MN4</th><td>4</td><td>LWR_MN4</td><td>Mangrove</td><td>Lower</td><td>47.827</td><td>20</td><td>84.567</td><td>75.811</td><td> 8.756</td><td>27.984</td><td>1.39920</td><td>1.23</td><td>0.01721016</td><td>0.08605080</td><td>12.538343</td></tr>\n",
       "\t<tr><th scope=row>LWR_MN5</th><td>5</td><td>LWR_MN5</td><td>Mangrove</td><td>Lower</td><td>47.361</td><td>20</td><td>83.542</td><td>73.940</td><td> 9.602</td><td>26.579</td><td>1.32895</td><td>1.57</td><td>0.02086452</td><td>0.10432258</td><td>11.510520</td></tr>\n",
       "\t<tr><th scope=row>LWR_SG1</th><td>6</td><td>LWR_SG1</td><td>Seagrass</td><td>Lower</td><td>47.561</td><td>20</td><td>87.818</td><td>78.983</td><td> 8.835</td><td>31.422</td><td>1.57110</td><td>1.92</td><td>0.03016512</td><td>0.15082560</td><td> 4.544755</td></tr>\n",
       "</tbody>\n",
       "</table>\n"
      ],
      "text/latex": [
       "A data.frame: 6 × 15\n",
       "\\begin{tabular}{r|lllllllllllllll}\n",
       "  & Sample\\_Number & Sample\\_ID & ecosystem & reach & Dish\\_mass & wet\\_volume\\_ml & Wet\\_mass & Dry\\_mass & X.Water\\_lost. & Dry\\_sediment & Dry\\_bulk\\_denisty & C\\_percent & soil\\_carbon\\_density & carbon\\_in\\_core & Total\\_core\\_carbon\\\\\n",
       "  & <dbl> & <fct> & <fct> & <fct> & <dbl> & <dbl> & <dbl> & <dbl> & <dbl> & <dbl> & <dbl> & <dbl> & <dbl> & <dbl> & <dbl>\\\\\n",
       "\\hline\n",
       "\tLWR\\_MN1 & 1 & LWR\\_MN1 & Mangrove & Lower & 47.622 & 20 & 86.147 & 76.943 &  9.204 & 29.321 & 1.46605 & 0.62 & 0.00908951 & 0.04544755 & 15.082560\\\\\n",
       "\tLWR\\_MN2 & 2 & LWR\\_MN2 & Mangrove & Lower & 47.343 & 20 & 85.034 & 76.522 &  8.512 & 29.179 & 1.45895 & 1.01 & 0.01473540 & 0.07367698 & 16.180257\\\\\n",
       "\tLWR\\_MN3 & 3 & LWR\\_MN3 & Mangrove & Lower & 47.406 & 20 & 79.452 & 68.110 & 11.342 & 20.704 & 1.03520 & 1.43 & 0.01480336 & 0.07401680 & 19.731470\\\\\n",
       "\tLWR\\_MN4 & 4 & LWR\\_MN4 & Mangrove & Lower & 47.827 & 20 & 84.567 & 75.811 &  8.756 & 27.984 & 1.39920 & 1.23 & 0.01721016 & 0.08605080 & 12.538343\\\\\n",
       "\tLWR\\_MN5 & 5 & LWR\\_MN5 & Mangrove & Lower & 47.361 & 20 & 83.542 & 73.940 &  9.602 & 26.579 & 1.32895 & 1.57 & 0.02086452 & 0.10432258 & 11.510520\\\\\n",
       "\tLWR\\_SG1 & 6 & LWR\\_SG1 & Seagrass & Lower & 47.561 & 20 & 87.818 & 78.983 &  8.835 & 31.422 & 1.57110 & 1.92 & 0.03016512 & 0.15082560 &  4.544755\\\\\n",
       "\\end{tabular}\n"
      ],
      "text/markdown": [
       "\n",
       "A data.frame: 6 × 15\n",
       "\n",
       "| <!--/--> | Sample_Number &lt;dbl&gt; | Sample_ID &lt;fct&gt; | ecosystem &lt;fct&gt; | reach &lt;fct&gt; | Dish_mass &lt;dbl&gt; | wet_volume_ml &lt;dbl&gt; | Wet_mass &lt;dbl&gt; | Dry_mass &lt;dbl&gt; | X.Water_lost. &lt;dbl&gt; | Dry_sediment &lt;dbl&gt; | Dry_bulk_denisty &lt;dbl&gt; | C_percent &lt;dbl&gt; | soil_carbon_density &lt;dbl&gt; | carbon_in_core &lt;dbl&gt; | Total_core_carbon &lt;dbl&gt; |\n",
       "|---|---|---|---|---|---|---|---|---|---|---|---|---|---|---|---|\n",
       "| LWR_MN1 | 1 | LWR_MN1 | Mangrove | Lower | 47.622 | 20 | 86.147 | 76.943 |  9.204 | 29.321 | 1.46605 | 0.62 | 0.00908951 | 0.04544755 | 15.082560 |\n",
       "| LWR_MN2 | 2 | LWR_MN2 | Mangrove | Lower | 47.343 | 20 | 85.034 | 76.522 |  8.512 | 29.179 | 1.45895 | 1.01 | 0.01473540 | 0.07367698 | 16.180257 |\n",
       "| LWR_MN3 | 3 | LWR_MN3 | Mangrove | Lower | 47.406 | 20 | 79.452 | 68.110 | 11.342 | 20.704 | 1.03520 | 1.43 | 0.01480336 | 0.07401680 | 19.731470 |\n",
       "| LWR_MN4 | 4 | LWR_MN4 | Mangrove | Lower | 47.827 | 20 | 84.567 | 75.811 |  8.756 | 27.984 | 1.39920 | 1.23 | 0.01721016 | 0.08605080 | 12.538343 |\n",
       "| LWR_MN5 | 5 | LWR_MN5 | Mangrove | Lower | 47.361 | 20 | 83.542 | 73.940 |  9.602 | 26.579 | 1.32895 | 1.57 | 0.02086452 | 0.10432258 | 11.510520 |\n",
       "| LWR_SG1 | 6 | LWR_SG1 | Seagrass | Lower | 47.561 | 20 | 87.818 | 78.983 |  8.835 | 31.422 | 1.57110 | 1.92 | 0.03016512 | 0.15082560 |  4.544755 |\n",
       "\n"
      ],
      "text/plain": [
       "        Sample_Number Sample_ID ecosystem reach Dish_mass wet_volume_ml\n",
       "LWR_MN1 1             LWR_MN1   Mangrove  Lower 47.622    20           \n",
       "LWR_MN2 2             LWR_MN2   Mangrove  Lower 47.343    20           \n",
       "LWR_MN3 3             LWR_MN3   Mangrove  Lower 47.406    20           \n",
       "LWR_MN4 4             LWR_MN4   Mangrove  Lower 47.827    20           \n",
       "LWR_MN5 5             LWR_MN5   Mangrove  Lower 47.361    20           \n",
       "LWR_SG1 6             LWR_SG1   Seagrass  Lower 47.561    20           \n",
       "        Wet_mass Dry_mass X.Water_lost. Dry_sediment Dry_bulk_denisty C_percent\n",
       "LWR_MN1 86.147   76.943    9.204        29.321       1.46605          0.62     \n",
       "LWR_MN2 85.034   76.522    8.512        29.179       1.45895          1.01     \n",
       "LWR_MN3 79.452   68.110   11.342        20.704       1.03520          1.43     \n",
       "LWR_MN4 84.567   75.811    8.756        27.984       1.39920          1.23     \n",
       "LWR_MN5 83.542   73.940    9.602        26.579       1.32895          1.57     \n",
       "LWR_SG1 87.818   78.983    8.835        31.422       1.57110          1.92     \n",
       "        soil_carbon_density carbon_in_core Total_core_carbon\n",
       "LWR_MN1 0.00908951          0.04544755     15.082560        \n",
       "LWR_MN2 0.01473540          0.07367698     16.180257        \n",
       "LWR_MN3 0.01480336          0.07401680     19.731470        \n",
       "LWR_MN4 0.01721016          0.08605080     12.538343        \n",
       "LWR_MN5 0.02086452          0.10432258     11.510520        \n",
       "LWR_SG1 0.03016512          0.15082560      4.544755        "
      ]
     },
     "metadata": {},
     "output_type": "display_data"
    }
   ],
   "source": [
    "#read in the blue carbon data\n",
    "#the locale part convert commas to points my system was complaining\n",
    "carbon_data <- readr::read_delim(\"R files/Carbon_analysis/Sediment_Samples_masses.csv\",\n",
    "               delim = \";\",\n",
    "               locale = readr::locale(decimal_mark = \",\")) %>% \n",
    "               #convert into a basic data.frame so that we can assign rownames\n",
    "               data.frame() %>%\n",
    "               mutate_if(is.character,as.factor)\n",
    "row.names(carbon_data) <- carbon_data$Sample_ID\n",
    "head(carbon_data)"
   ]
  },
  {
   "cell_type": "code",
   "execution_count": 299,
   "id": "af380148-a37a-4742-aade-59e65ec1d5a7",
   "metadata": {},
   "outputs": [],
   "source": [
    "#vegan expect sample as row and otu/asv as columns\n",
    "#transpose the table so samples can be rows and asv are columns\n",
    "#shannon is default\n",
    "shannondiv <- vegan::diversity(otu_table(merged_ps)) %>%\n",
    "              data.frame() %>%\n",
    "              `colnames<-`(c(\"shannon\")) %>%\n",
    "              tibble::rownames_to_column(var = \"Sample_ID\")\n",
    "#can also run the simpson's diversity which is easier to interpret\n",
    "simpsondiv <- vegan::diversity(otu_table(merged_ps), index = \"simpson\") %>%\n",
    "              data.frame() %>%\n",
    "              `colnames<-`(c(\"simpson\")) %>%\n",
    "              tibble::rownames_to_column(var = \"Sample_ID\")"
   ]
  },
  {
   "cell_type": "code",
   "execution_count": 300,
   "id": "87ddfaa2-5401-4e99-97f5-a383d98378c4",
   "metadata": {},
   "outputs": [
    {
     "name": "stderr",
     "output_type": "stream",
     "text": [
      "\u001b[1m\u001b[22mJoining with `by = join_by(Sample_ID)`\n",
      "\u001b[1m\u001b[22mJoining with `by = join_by(Sample_ID)`\n"
     ]
    }
   ],
   "source": [
    "#create a new metadatable with diversity indexes and other metadata\n",
    "carbon_metadata_div <- carbon_data %>%\n",
    "                       left_join(shannondiv) %>%\n",
    "                       left_join(simpsondiv)"
   ]
  },
  {
   "cell_type": "code",
   "execution_count": 301,
   "id": "2f8e028a-4c04-4e30-8151-0ecf7ee831bd",
   "metadata": {},
   "outputs": [
    {
     "data": {
      "text/html": [
       "<style>\n",
       ".list-inline {list-style: none; margin:0; padding: 0}\n",
       ".list-inline>li {display: inline-block}\n",
       ".list-inline>li:not(:last-child)::after {content: \"\\00b7\"; padding: 0 .5ex}\n",
       "</style>\n",
       "<ol class=list-inline><li>45</li><li>17</li></ol>\n"
      ],
      "text/latex": [
       "\\begin{enumerate*}\n",
       "\\item 45\n",
       "\\item 17\n",
       "\\end{enumerate*}\n"
      ],
      "text/markdown": [
       "1. 45\n",
       "2. 17\n",
       "\n",
       "\n"
      ],
      "text/plain": [
       "[1] 45 17"
      ]
     },
     "metadata": {},
     "output_type": "display_data"
    }
   ],
   "source": [
    "dim(carbon_metadata_div)"
   ]
  },
  {
   "cell_type": "code",
   "execution_count": 328,
   "id": "2317e9dd-f260-4857-abc3-dcb6dd6f3e89",
   "metadata": {},
   "outputs": [
    {
     "data": {
      "text/html": [
       "<style>\n",
       ".list-inline {list-style: none; margin:0; padding: 0}\n",
       ".list-inline>li {display: inline-block}\n",
       ".list-inline>li:not(:last-child)::after {content: \"\\00b7\"; padding: 0 .5ex}\n",
       "</style>\n",
       "<ol class=list-inline><li>'Sample_Number'</li><li>'Sample_ID'</li><li>'ecosystem'</li><li>'reach'</li><li>'Dish_mass'</li><li>'wet_volume_ml'</li><li>'Wet_mass'</li><li>'Dry_mass'</li><li>'X.Water_lost.'</li><li>'Dry_sediment'</li><li>'Dry_bulk_denisty'</li><li>'C_percent'</li><li>'soil_carbon_density'</li><li>'carbon_in_core'</li><li>'Total_core_carbon'</li><li>'shannon'</li><li>'simpson'</li></ol>\n"
      ],
      "text/latex": [
       "\\begin{enumerate*}\n",
       "\\item 'Sample\\_Number'\n",
       "\\item 'Sample\\_ID'\n",
       "\\item 'ecosystem'\n",
       "\\item 'reach'\n",
       "\\item 'Dish\\_mass'\n",
       "\\item 'wet\\_volume\\_ml'\n",
       "\\item 'Wet\\_mass'\n",
       "\\item 'Dry\\_mass'\n",
       "\\item 'X.Water\\_lost.'\n",
       "\\item 'Dry\\_sediment'\n",
       "\\item 'Dry\\_bulk\\_denisty'\n",
       "\\item 'C\\_percent'\n",
       "\\item 'soil\\_carbon\\_density'\n",
       "\\item 'carbon\\_in\\_core'\n",
       "\\item 'Total\\_core\\_carbon'\n",
       "\\item 'shannon'\n",
       "\\item 'simpson'\n",
       "\\end{enumerate*}\n"
      ],
      "text/markdown": [
       "1. 'Sample_Number'\n",
       "2. 'Sample_ID'\n",
       "3. 'ecosystem'\n",
       "4. 'reach'\n",
       "5. 'Dish_mass'\n",
       "6. 'wet_volume_ml'\n",
       "7. 'Wet_mass'\n",
       "8. 'Dry_mass'\n",
       "9. 'X.Water_lost.'\n",
       "10. 'Dry_sediment'\n",
       "11. 'Dry_bulk_denisty'\n",
       "12. 'C_percent'\n",
       "13. 'soil_carbon_density'\n",
       "14. 'carbon_in_core'\n",
       "15. 'Total_core_carbon'\n",
       "16. 'shannon'\n",
       "17. 'simpson'\n",
       "\n",
       "\n"
      ],
      "text/plain": [
       " [1] \"Sample_Number\"       \"Sample_ID\"           \"ecosystem\"          \n",
       " [4] \"reach\"               \"Dish_mass\"           \"wet_volume_ml\"      \n",
       " [7] \"Wet_mass\"            \"Dry_mass\"            \"X.Water_lost.\"      \n",
       "[10] \"Dry_sediment\"        \"Dry_bulk_denisty\"    \"C_percent\"          \n",
       "[13] \"soil_carbon_density\" \"carbon_in_core\"      \"Total_core_carbon\"  \n",
       "[16] \"shannon\"             \"simpson\"            "
      ]
     },
     "metadata": {},
     "output_type": "display_data"
    }
   ],
   "source": [
    "colnames(carbon_metadata_div)"
   ]
  },
  {
   "cell_type": "code",
   "execution_count": 329,
   "id": "26a63bec-cee5-416d-b9ee-1740ac4849bb",
   "metadata": {},
   "outputs": [
    {
     "data": {
      "text/html": [
       "<table class=\"dataframe\">\n",
       "<caption>A cor_test: 27 × 7</caption>\n",
       "<thead>\n",
       "\t<tr><th scope=col>ecosystem</th><th scope=col>var1</th><th scope=col>var2</th><th scope=col>cor</th><th scope=col>statistic</th><th scope=col>p</th><th scope=col>method</th></tr>\n",
       "\t<tr><th scope=col>&lt;fct&gt;</th><th scope=col>&lt;chr&gt;</th><th scope=col>&lt;chr&gt;</th><th scope=col>&lt;dbl&gt;</th><th scope=col>&lt;dbl&gt;</th><th scope=col>&lt;dbl&gt;</th><th scope=col>&lt;chr&gt;</th></tr>\n",
       "</thead>\n",
       "<tbody>\n",
       "\t<tr><td>Mangrove </td><td>simpson         </td><td>simpson         </td><td> 1.000</td><td>1.243450e-13</td><td> 0.00e+00</td><td>Spearman</td></tr>\n",
       "\t<tr><td>Saltmarsh</td><td>simpson         </td><td>simpson         </td><td> 1.000</td><td>1.243450e-13</td><td> 0.00e+00</td><td>Spearman</td></tr>\n",
       "\t<tr><td>Seagrass </td><td>simpson         </td><td>simpson         </td><td> 1.000</td><td>1.243450e-13</td><td> 0.00e+00</td><td>Spearman</td></tr>\n",
       "\t<tr><td>Mangrove </td><td>simpson         </td><td>C_percent       </td><td> 0.029</td><td>5.440000e+02</td><td> 9.23e-01</td><td>Spearman</td></tr>\n",
       "\t<tr><td>Saltmarsh</td><td>simpson         </td><td>C_percent       </td><td>-0.400</td><td>7.820000e+02</td><td> 1.45e-01</td><td>Spearman</td></tr>\n",
       "\t<tr><td>Seagrass </td><td>simpson         </td><td>C_percent       </td><td> 0.150</td><td>4.787822e+02</td><td> 6.06e-01</td><td>Spearman</td></tr>\n",
       "\t<tr><td>Mangrove </td><td>simpson         </td><td>Dry_bulk_denisty</td><td> 0.089</td><td>5.100000e+02</td><td> 7.53e-01</td><td>Spearman</td></tr>\n",
       "\t<tr><td>Saltmarsh</td><td>simpson         </td><td>Dry_bulk_denisty</td><td> 0.560</td><td>2.480000e+02</td><td> 3.36e-02</td><td>Spearman</td></tr>\n",
       "\t<tr><td>Seagrass </td><td>simpson         </td><td>Dry_bulk_denisty</td><td> 0.500</td><td>2.800000e+02</td><td> 6.02e-02</td><td>Spearman</td></tr>\n",
       "\t<tr><td>Mangrove </td><td>C_percent       </td><td>simpson         </td><td> 0.029</td><td>5.440000e+02</td><td> 9.23e-01</td><td>Spearman</td></tr>\n",
       "\t<tr><td>Saltmarsh</td><td>C_percent       </td><td>simpson         </td><td>-0.400</td><td>7.820000e+02</td><td> 1.45e-01</td><td>Spearman</td></tr>\n",
       "\t<tr><td>Seagrass </td><td>C_percent       </td><td>simpson         </td><td> 0.150</td><td>4.787822e+02</td><td> 6.06e-01</td><td>Spearman</td></tr>\n",
       "\t<tr><td>Mangrove </td><td>C_percent       </td><td>C_percent       </td><td> 1.000</td><td>1.243450e-13</td><td> 0.00e+00</td><td>Spearman</td></tr>\n",
       "\t<tr><td>Saltmarsh</td><td>C_percent       </td><td>C_percent       </td><td> 1.000</td><td>1.243450e-13</td><td> 0.00e+00</td><td>Spearman</td></tr>\n",
       "\t<tr><td>Seagrass </td><td>C_percent       </td><td>C_percent       </td><td> 1.000</td><td>1.243450e-13</td><td>3.51e-101</td><td>Spearman</td></tr>\n",
       "\t<tr><td>Mangrove </td><td>C_percent       </td><td>Dry_bulk_denisty</td><td>-0.610</td><td>9.000000e+02</td><td> 1.87e-02</td><td>Spearman</td></tr>\n",
       "\t<tr><td>Saltmarsh</td><td>C_percent       </td><td>Dry_bulk_denisty</td><td>-0.430</td><td>8.020000e+02</td><td> 1.09e-01</td><td>Spearman</td></tr>\n",
       "\t<tr><td>Seagrass </td><td>C_percent       </td><td>Dry_bulk_denisty</td><td> 0.520</td><td>2.712255e+02</td><td> 4.91e-02</td><td>Spearman</td></tr>\n",
       "\t<tr><td>Mangrove </td><td>Dry_bulk_denisty</td><td>simpson         </td><td> 0.089</td><td>5.100000e+02</td><td> 7.53e-01</td><td>Spearman</td></tr>\n",
       "\t<tr><td>Saltmarsh</td><td>Dry_bulk_denisty</td><td>simpson         </td><td> 0.560</td><td>2.480000e+02</td><td> 3.36e-02</td><td>Spearman</td></tr>\n",
       "\t<tr><td>Seagrass </td><td>Dry_bulk_denisty</td><td>simpson         </td><td> 0.500</td><td>2.800000e+02</td><td> 6.02e-02</td><td>Spearman</td></tr>\n",
       "\t<tr><td>Mangrove </td><td>Dry_bulk_denisty</td><td>C_percent       </td><td>-0.610</td><td>9.000000e+02</td><td> 1.87e-02</td><td>Spearman</td></tr>\n",
       "\t<tr><td>Saltmarsh</td><td>Dry_bulk_denisty</td><td>C_percent       </td><td>-0.430</td><td>8.020000e+02</td><td> 1.09e-01</td><td>Spearman</td></tr>\n",
       "\t<tr><td>Seagrass </td><td>Dry_bulk_denisty</td><td>C_percent       </td><td> 0.520</td><td>2.712255e+02</td><td> 4.91e-02</td><td>Spearman</td></tr>\n",
       "\t<tr><td>Mangrove </td><td>Dry_bulk_denisty</td><td>Dry_bulk_denisty</td><td> 1.000</td><td>1.243450e-13</td><td> 0.00e+00</td><td>Spearman</td></tr>\n",
       "\t<tr><td>Saltmarsh</td><td>Dry_bulk_denisty</td><td>Dry_bulk_denisty</td><td> 1.000</td><td>1.243450e-13</td><td> 0.00e+00</td><td>Spearman</td></tr>\n",
       "\t<tr><td>Seagrass </td><td>Dry_bulk_denisty</td><td>Dry_bulk_denisty</td><td> 1.000</td><td>1.243450e-13</td><td> 0.00e+00</td><td>Spearman</td></tr>\n",
       "</tbody>\n",
       "</table>\n"
      ],
      "text/latex": [
       "A cor\\_test: 27 × 7\n",
       "\\begin{tabular}{lllllll}\n",
       " ecosystem & var1 & var2 & cor & statistic & p & method\\\\\n",
       " <fct> & <chr> & <chr> & <dbl> & <dbl> & <dbl> & <chr>\\\\\n",
       "\\hline\n",
       "\t Mangrove  & simpson          & simpson          &  1.000 & 1.243450e-13 &  0.00e+00 & Spearman\\\\\n",
       "\t Saltmarsh & simpson          & simpson          &  1.000 & 1.243450e-13 &  0.00e+00 & Spearman\\\\\n",
       "\t Seagrass  & simpson          & simpson          &  1.000 & 1.243450e-13 &  0.00e+00 & Spearman\\\\\n",
       "\t Mangrove  & simpson          & C\\_percent        &  0.029 & 5.440000e+02 &  9.23e-01 & Spearman\\\\\n",
       "\t Saltmarsh & simpson          & C\\_percent        & -0.400 & 7.820000e+02 &  1.45e-01 & Spearman\\\\\n",
       "\t Seagrass  & simpson          & C\\_percent        &  0.150 & 4.787822e+02 &  6.06e-01 & Spearman\\\\\n",
       "\t Mangrove  & simpson          & Dry\\_bulk\\_denisty &  0.089 & 5.100000e+02 &  7.53e-01 & Spearman\\\\\n",
       "\t Saltmarsh & simpson          & Dry\\_bulk\\_denisty &  0.560 & 2.480000e+02 &  3.36e-02 & Spearman\\\\\n",
       "\t Seagrass  & simpson          & Dry\\_bulk\\_denisty &  0.500 & 2.800000e+02 &  6.02e-02 & Spearman\\\\\n",
       "\t Mangrove  & C\\_percent        & simpson          &  0.029 & 5.440000e+02 &  9.23e-01 & Spearman\\\\\n",
       "\t Saltmarsh & C\\_percent        & simpson          & -0.400 & 7.820000e+02 &  1.45e-01 & Spearman\\\\\n",
       "\t Seagrass  & C\\_percent        & simpson          &  0.150 & 4.787822e+02 &  6.06e-01 & Spearman\\\\\n",
       "\t Mangrove  & C\\_percent        & C\\_percent        &  1.000 & 1.243450e-13 &  0.00e+00 & Spearman\\\\\n",
       "\t Saltmarsh & C\\_percent        & C\\_percent        &  1.000 & 1.243450e-13 &  0.00e+00 & Spearman\\\\\n",
       "\t Seagrass  & C\\_percent        & C\\_percent        &  1.000 & 1.243450e-13 & 3.51e-101 & Spearman\\\\\n",
       "\t Mangrove  & C\\_percent        & Dry\\_bulk\\_denisty & -0.610 & 9.000000e+02 &  1.87e-02 & Spearman\\\\\n",
       "\t Saltmarsh & C\\_percent        & Dry\\_bulk\\_denisty & -0.430 & 8.020000e+02 &  1.09e-01 & Spearman\\\\\n",
       "\t Seagrass  & C\\_percent        & Dry\\_bulk\\_denisty &  0.520 & 2.712255e+02 &  4.91e-02 & Spearman\\\\\n",
       "\t Mangrove  & Dry\\_bulk\\_denisty & simpson          &  0.089 & 5.100000e+02 &  7.53e-01 & Spearman\\\\\n",
       "\t Saltmarsh & Dry\\_bulk\\_denisty & simpson          &  0.560 & 2.480000e+02 &  3.36e-02 & Spearman\\\\\n",
       "\t Seagrass  & Dry\\_bulk\\_denisty & simpson          &  0.500 & 2.800000e+02 &  6.02e-02 & Spearman\\\\\n",
       "\t Mangrove  & Dry\\_bulk\\_denisty & C\\_percent        & -0.610 & 9.000000e+02 &  1.87e-02 & Spearman\\\\\n",
       "\t Saltmarsh & Dry\\_bulk\\_denisty & C\\_percent        & -0.430 & 8.020000e+02 &  1.09e-01 & Spearman\\\\\n",
       "\t Seagrass  & Dry\\_bulk\\_denisty & C\\_percent        &  0.520 & 2.712255e+02 &  4.91e-02 & Spearman\\\\\n",
       "\t Mangrove  & Dry\\_bulk\\_denisty & Dry\\_bulk\\_denisty &  1.000 & 1.243450e-13 &  0.00e+00 & Spearman\\\\\n",
       "\t Saltmarsh & Dry\\_bulk\\_denisty & Dry\\_bulk\\_denisty &  1.000 & 1.243450e-13 &  0.00e+00 & Spearman\\\\\n",
       "\t Seagrass  & Dry\\_bulk\\_denisty & Dry\\_bulk\\_denisty &  1.000 & 1.243450e-13 &  0.00e+00 & Spearman\\\\\n",
       "\\end{tabular}\n"
      ],
      "text/markdown": [
       "\n",
       "A cor_test: 27 × 7\n",
       "\n",
       "| ecosystem &lt;fct&gt; | var1 &lt;chr&gt; | var2 &lt;chr&gt; | cor &lt;dbl&gt; | statistic &lt;dbl&gt; | p &lt;dbl&gt; | method &lt;chr&gt; |\n",
       "|---|---|---|---|---|---|---|\n",
       "| Mangrove  | simpson          | simpson          |  1.000 | 1.243450e-13 |  0.00e+00 | Spearman |\n",
       "| Saltmarsh | simpson          | simpson          |  1.000 | 1.243450e-13 |  0.00e+00 | Spearman |\n",
       "| Seagrass  | simpson          | simpson          |  1.000 | 1.243450e-13 |  0.00e+00 | Spearman |\n",
       "| Mangrove  | simpson          | C_percent        |  0.029 | 5.440000e+02 |  9.23e-01 | Spearman |\n",
       "| Saltmarsh | simpson          | C_percent        | -0.400 | 7.820000e+02 |  1.45e-01 | Spearman |\n",
       "| Seagrass  | simpson          | C_percent        |  0.150 | 4.787822e+02 |  6.06e-01 | Spearman |\n",
       "| Mangrove  | simpson          | Dry_bulk_denisty |  0.089 | 5.100000e+02 |  7.53e-01 | Spearman |\n",
       "| Saltmarsh | simpson          | Dry_bulk_denisty |  0.560 | 2.480000e+02 |  3.36e-02 | Spearman |\n",
       "| Seagrass  | simpson          | Dry_bulk_denisty |  0.500 | 2.800000e+02 |  6.02e-02 | Spearman |\n",
       "| Mangrove  | C_percent        | simpson          |  0.029 | 5.440000e+02 |  9.23e-01 | Spearman |\n",
       "| Saltmarsh | C_percent        | simpson          | -0.400 | 7.820000e+02 |  1.45e-01 | Spearman |\n",
       "| Seagrass  | C_percent        | simpson          |  0.150 | 4.787822e+02 |  6.06e-01 | Spearman |\n",
       "| Mangrove  | C_percent        | C_percent        |  1.000 | 1.243450e-13 |  0.00e+00 | Spearman |\n",
       "| Saltmarsh | C_percent        | C_percent        |  1.000 | 1.243450e-13 |  0.00e+00 | Spearman |\n",
       "| Seagrass  | C_percent        | C_percent        |  1.000 | 1.243450e-13 | 3.51e-101 | Spearman |\n",
       "| Mangrove  | C_percent        | Dry_bulk_denisty | -0.610 | 9.000000e+02 |  1.87e-02 | Spearman |\n",
       "| Saltmarsh | C_percent        | Dry_bulk_denisty | -0.430 | 8.020000e+02 |  1.09e-01 | Spearman |\n",
       "| Seagrass  | C_percent        | Dry_bulk_denisty |  0.520 | 2.712255e+02 |  4.91e-02 | Spearman |\n",
       "| Mangrove  | Dry_bulk_denisty | simpson          |  0.089 | 5.100000e+02 |  7.53e-01 | Spearman |\n",
       "| Saltmarsh | Dry_bulk_denisty | simpson          |  0.560 | 2.480000e+02 |  3.36e-02 | Spearman |\n",
       "| Seagrass  | Dry_bulk_denisty | simpson          |  0.500 | 2.800000e+02 |  6.02e-02 | Spearman |\n",
       "| Mangrove  | Dry_bulk_denisty | C_percent        | -0.610 | 9.000000e+02 |  1.87e-02 | Spearman |\n",
       "| Saltmarsh | Dry_bulk_denisty | C_percent        | -0.430 | 8.020000e+02 |  1.09e-01 | Spearman |\n",
       "| Seagrass  | Dry_bulk_denisty | C_percent        |  0.520 | 2.712255e+02 |  4.91e-02 | Spearman |\n",
       "| Mangrove  | Dry_bulk_denisty | Dry_bulk_denisty |  1.000 | 1.243450e-13 |  0.00e+00 | Spearman |\n",
       "| Saltmarsh | Dry_bulk_denisty | Dry_bulk_denisty |  1.000 | 1.243450e-13 |  0.00e+00 | Spearman |\n",
       "| Seagrass  | Dry_bulk_denisty | Dry_bulk_denisty |  1.000 | 1.243450e-13 |  0.00e+00 | Spearman |\n",
       "\n"
      ],
      "text/plain": [
       "   ecosystem var1             var2             cor    statistic    p        \n",
       "1  Mangrove  simpson          simpson           1.000 1.243450e-13  0.00e+00\n",
       "2  Saltmarsh simpson          simpson           1.000 1.243450e-13  0.00e+00\n",
       "3  Seagrass  simpson          simpson           1.000 1.243450e-13  0.00e+00\n",
       "4  Mangrove  simpson          C_percent         0.029 5.440000e+02  9.23e-01\n",
       "5  Saltmarsh simpson          C_percent        -0.400 7.820000e+02  1.45e-01\n",
       "6  Seagrass  simpson          C_percent         0.150 4.787822e+02  6.06e-01\n",
       "7  Mangrove  simpson          Dry_bulk_denisty  0.089 5.100000e+02  7.53e-01\n",
       "8  Saltmarsh simpson          Dry_bulk_denisty  0.560 2.480000e+02  3.36e-02\n",
       "9  Seagrass  simpson          Dry_bulk_denisty  0.500 2.800000e+02  6.02e-02\n",
       "10 Mangrove  C_percent        simpson           0.029 5.440000e+02  9.23e-01\n",
       "11 Saltmarsh C_percent        simpson          -0.400 7.820000e+02  1.45e-01\n",
       "12 Seagrass  C_percent        simpson           0.150 4.787822e+02  6.06e-01\n",
       "13 Mangrove  C_percent        C_percent         1.000 1.243450e-13  0.00e+00\n",
       "14 Saltmarsh C_percent        C_percent         1.000 1.243450e-13  0.00e+00\n",
       "15 Seagrass  C_percent        C_percent         1.000 1.243450e-13 3.51e-101\n",
       "16 Mangrove  C_percent        Dry_bulk_denisty -0.610 9.000000e+02  1.87e-02\n",
       "17 Saltmarsh C_percent        Dry_bulk_denisty -0.430 8.020000e+02  1.09e-01\n",
       "18 Seagrass  C_percent        Dry_bulk_denisty  0.520 2.712255e+02  4.91e-02\n",
       "19 Mangrove  Dry_bulk_denisty simpson           0.089 5.100000e+02  7.53e-01\n",
       "20 Saltmarsh Dry_bulk_denisty simpson           0.560 2.480000e+02  3.36e-02\n",
       "21 Seagrass  Dry_bulk_denisty simpson           0.500 2.800000e+02  6.02e-02\n",
       "22 Mangrove  Dry_bulk_denisty C_percent        -0.610 9.000000e+02  1.87e-02\n",
       "23 Saltmarsh Dry_bulk_denisty C_percent        -0.430 8.020000e+02  1.09e-01\n",
       "24 Seagrass  Dry_bulk_denisty C_percent         0.520 2.712255e+02  4.91e-02\n",
       "25 Mangrove  Dry_bulk_denisty Dry_bulk_denisty  1.000 1.243450e-13  0.00e+00\n",
       "26 Saltmarsh Dry_bulk_denisty Dry_bulk_denisty  1.000 1.243450e-13  0.00e+00\n",
       "27 Seagrass  Dry_bulk_denisty Dry_bulk_denisty  1.000 1.243450e-13  0.00e+00\n",
       "   method  \n",
       "1  Spearman\n",
       "2  Spearman\n",
       "3  Spearman\n",
       "4  Spearman\n",
       "5  Spearman\n",
       "6  Spearman\n",
       "7  Spearman\n",
       "8  Spearman\n",
       "9  Spearman\n",
       "10 Spearman\n",
       "11 Spearman\n",
       "12 Spearman\n",
       "13 Spearman\n",
       "14 Spearman\n",
       "15 Spearman\n",
       "16 Spearman\n",
       "17 Spearman\n",
       "18 Spearman\n",
       "19 Spearman\n",
       "20 Spearman\n",
       "21 Spearman\n",
       "22 Spearman\n",
       "23 Spearman\n",
       "24 Spearman\n",
       "25 Spearman\n",
       "26 Spearman\n",
       "27 Spearman"
      ]
     },
     "metadata": {},
     "output_type": "display_data"
    }
   ],
   "source": [
    "#check for correlation\n",
    "carbon_metadata_div %>%\n",
    "dplyr::group_by(ecosystem) %>%\n",
    "rstatix::cor_test(simpson, C_percent, Dry_bulk_denisty, method = \"spearman\")"
   ]
  },
  {
   "cell_type": "code",
   "execution_count": 331,
   "id": "1d500047-932a-44a4-a607-9e1c7eb2e62c",
   "metadata": {},
   "outputs": [
    {
     "name": "stderr",
     "output_type": "stream",
     "text": [
      "\u001b[1m\u001b[22m`geom_smooth()` using formula = 'y ~ x'\n"
     ]
    },
    {
     "data": {
      "image/png": "[encoded data removed]",
      "text/plain": [
       "plot without title"
      ]
     },
     "metadata": {
      "image/png": {
       "height": 420,
       "width": 420
      }
     },
     "output_type": "display_data"
    }
   ],
   "source": [
    "carbon_metadata_div %>%\n",
    "ggplot(aes(x = simpson, y = C_percent)) + \n",
    "  geom_point(aes(color = ecosystem, shape = reach),size = 3, alpha = 0.9, stroke = 0.6) + \n",
    "  geom_smooth(method = \"lm\", se= FALSE, color = \"black\") + \n",
    "  ggpmisc::stat_poly_eq(use_label(c(\"adj.R2\", \"p\")), \n",
    "                        label.y = \"top\", size = 4,\n",
    "                        small.p = TRUE) + \n",
    "  labs(y = \"Shannon diversity index\", x = expression(C[org])) +\n",
    "  theme(legend.position = \"none\",\n",
    "        axis.title=element_text(size=14,face=\"bold\"),\n",
    "        axis.text.y = element_text(size=10,face=\"bold\"),\n",
    "        axis.text.x = element_text(angle = 90)) +\n",
    "        facet_grid(~ecosystem)"
   ]
  },
  {
   "cell_type": "code",
   "execution_count": 330,
   "id": "48848636-5ab4-4edf-a8ba-4cb0d7782600",
   "metadata": {},
   "outputs": [
    {
     "name": "stderr",
     "output_type": "stream",
     "text": [
      "\u001b[1m\u001b[22m`geom_smooth()` using formula = 'y ~ x'\n"
     ]
    },
    {
     "data": {
      "image/png": "[encoded data removed]",
      "text/plain": [
       "plot without title"
      ]
     },
     "metadata": {
      "image/png": {
       "height": 420,
       "width": 420
      }
     },
     "output_type": "display_data"
    }
   ],
   "source": [
    "carbon_metadata_div %>%\n",
    "ggplot(aes(x = simpson, y = C_percent)) + \n",
    "  geom_point(aes(color = ecosystem, shape = reach),size = 3, alpha = 0.9, stroke = 0.6) + \n",
    "  geom_smooth(method = \"lm\", se= FALSE, color = \"black\") + \n",
    "  ggpmisc::stat_poly_eq(use_label(c(\"adj.R2\", \"p\")), \n",
    "                        label.y = \"top\", size = 4,\n",
    "                        small.p = TRUE) + \n",
    "  labs(y = \"Shannon diversity index\", x = expression(C[org])) +\n",
    "  theme(legend.position = \"none\",\n",
    "        axis.title=element_text(size=14,face=\"bold\"),\n",
    "        axis.text.y = element_text(size=10,face=\"bold\"),\n",
    "        axis.text.x = element_text(angle = 90)) +\n",
    "        facet_grid(~ecosystem + reach)"
   ]
  }
 ],
 "metadata": {
  "kernelspec": {
   "display_name": "R",
   "language": "R",
   "name": "ir"
  },
  "language_info": {
   "codemirror_mode": "r",
   "file_extension": ".r",
   "mimetype": "text/x-r-source",
   "name": "R",
   "pygments_lexer": "r",
   "version": "4.1.3"
  }
 },
 "nbformat": 4,
 "nbformat_minor": 5
}
