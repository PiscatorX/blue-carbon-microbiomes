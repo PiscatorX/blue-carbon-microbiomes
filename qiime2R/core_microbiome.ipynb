{
 "cells": [
  {
   "cell_type": "code",
   "execution_count": 6,
   "id": "8b15a8a6-3dee-43a1-bcb0-f833b744a339",
   "metadata": {
    "collapsed": true,
    "jupyter": {
     "outputs_hidden": true
    },
    "tags": []
   },
   "outputs": [
    {
     "name": "stderr",
     "output_type": "stream",
     "text": [
      "\n",
      "Attaching package: 'dplyr'\n",
      "\n",
      "\n",
      "The following objects are masked from 'package:Biostrings':\n",
      "\n",
      "    collapse, intersect, setdiff, setequal, union\n",
      "\n",
      "\n",
      "The following object is masked from 'package:XVector':\n",
      "\n",
      "    slice\n",
      "\n",
      "\n",
      "The following object is masked from 'package:Biobase':\n",
      "\n",
      "    combine\n",
      "\n",
      "\n",
      "The following objects are masked from 'package:GenomicRanges':\n",
      "\n",
      "    intersect, setdiff, union\n",
      "\n",
      "\n",
      "The following object is masked from 'package:GenomeInfoDb':\n",
      "\n",
      "    intersect\n",
      "\n",
      "\n",
      "The following objects are masked from 'package:IRanges':\n",
      "\n",
      "    collapse, desc, intersect, setdiff, slice, union\n",
      "\n",
      "\n",
      "The following objects are masked from 'package:S4Vectors':\n",
      "\n",
      "    first, intersect, rename, setdiff, setequal, union\n",
      "\n",
      "\n",
      "The following objects are masked from 'package:BiocGenerics':\n",
      "\n",
      "    combine, intersect, setdiff, union\n",
      "\n",
      "\n",
      "The following object is masked from 'package:matrixStats':\n",
      "\n",
      "    count\n",
      "\n",
      "\n",
      "The following objects are masked from 'package:stats':\n",
      "\n",
      "    filter, lag\n",
      "\n",
      "\n",
      "The following objects are masked from 'package:base':\n",
      "\n",
      "    intersect, setdiff, setequal, union\n",
      "\n",
      "\n"
     ]
    }
   ],
   "source": [
    "library(RColorBrewer)\n",
    "library(microbiome)\n",
    "library(phyloseq)\n",
    "library(dplyr)\n",
    "library(ggpubr)\n",
    "library(mia)"
   ]
  },
  {
   "cell_type": "code",
   "execution_count": 2,
   "id": "a1a2c104-e6fd-4880-b48d-23fdc0832e33",
   "metadata": {
    "collapsed": true,
    "jupyter": {
     "outputs_hidden": true,
     "source_hidden": true
    },
    "tags": []
   },
   "outputs": [
    {
     "name": "stderr",
     "output_type": "stream",
     "text": [
      "Warning message:\n",
      "\"\u001b[1m\u001b[22mExpected 7 pieces. Missing pieces filled with `NA` in 18661 rows [1, 2, 5, 6, 8, 9, 11, 12, 14, 15, 16, 21, 22, 24, 25, 30, 31, 32, 33, 34, ...].\"\n"
     ]
    }
   ],
   "source": [
    "metadata_raw <- read.table(file = \"R files/Carbon_analysis/sample-metadata3.txt\", sep = \"\\t\", header =  T, skip = 1)%>%\n",
    "                mutate(sample_ref = sample.id) %>%  \n",
    "                dplyr::select(-sample_ID) %>%\n",
    "                tidyr::separate(sample_ref, into = c(\"read_prefix\", \"Sample_ID\",\" replicate_id\"), sep =  \"[.]\") %>%\n",
    "                mutate(Sample_ID = stringi::stri_replace_last_fixed(Sample_ID, \"_\", \"\"))\n",
    "metadata_sediment <- metadata_raw %>% dplyr::select(sample.id, Sample_ID) \n",
    "rownames(metadata_sediment) <- metadata_sediment$sample.id\n",
    "#list of the 45 samples identifier no replicates\n",
    "otu_sediment <- read.table(file = \"feature-table.tsv\", sep = \"\\t\", header = T, row.names = 1, skip = 1, comment.char = \"\")\n",
    "tax_sediment_raw <- read.table(file = \"taxonomy.tsv\", sep = \"\\t\", header = T ,row.names = 1)\n",
    "tax_sediment <- tax_sediment_raw %>% \n",
    "                tidyr::separate(Taxon, c(\"Kingdom\", \"Phylum\", \"Class\", \"Order\", \"Family\", \"Genus\", \"Species\"), sep = \"; \") %>%\n",
    "                dplyr::mutate(across(1:7, ~ stringr::str_replace_all(.x, \"^[dkpcofgs]__\",\"\"))) %>%\n",
    "                dplyr::select(1:7)"
   ]
  },
  {
   "cell_type": "code",
   "execution_count": 3,
   "id": "82230869-d056-4e08-8209-6196f72c9c16",
   "metadata": {},
   "outputs": [
    {
     "data": {
      "text/plain": [
       "phyloseq-class experiment-level object\n",
       "otu_table()   OTU Table:         [ 48190 taxa and 135 samples ]\n",
       "sample_data() Sample Data:       [ 135 samples by 2 sample variables ]\n",
       "tax_table()   Taxonomy Table:    [ 48190 taxa by 7 taxonomic ranks ]"
      ]
     },
     "metadata": {},
     "output_type": "display_data"
    }
   ],
   "source": [
    "OTU_sediment <- otu_table(as.matrix(otu_sediment), taxa_are_rows = TRUE)\n",
    "TAX_sediment <- tax_table(as.matrix(tax_sediment))\n",
    "SAMPLE_sediment <- sample_data(metadata_sediment)\n",
    "(ps_sediment_all <- phyloseq(OTU_sediment, TAX_sediment, SAMPLE_sediment))"
   ]
  },
  {
   "cell_type": "code",
   "execution_count": 4,
   "id": "dbbe6665-0053-44be-80cc-4105016005dd",
   "metadata": {},
   "outputs": [
    {
     "name": "stderr",
     "output_type": "stream",
     "text": [
      "Warning message in asMethod(object):\n",
      "\"NAs introduced by coercion\"\n",
      "Warning message in asMethod(object):\n",
      "\"NAs introduced by coercion\"\n"
     ]
    },
    {
     "data": {
      "text/plain": [
       "phyloseq-class experiment-level object\n",
       "otu_table()   OTU Table:         [ 48190 taxa and 45 samples ]\n",
       "sample_data() Sample Data:       [ 45 samples by 2 sample variables ]\n",
       "tax_table()   Taxonomy Table:    [ 48190 taxa by 7 taxonomic ranks ]"
      ]
     },
     "metadata": {},
     "output_type": "display_data"
    }
   ],
   "source": [
    "#merge replicates by summing up all readcounts data for the given category\n",
    "(merged_ps <- merge_samples(ps_sediment_all, \"Sample_ID\"))"
   ]
  },
  {
   "cell_type": "code",
   "execution_count": 7,
   "id": "97a660f6-ad00-475d-82c2-6028eea0f41a",
   "metadata": {
    "tags": []
   },
   "outputs": [
    {
     "data": {
      "text/plain": [
       "phyloseq-class experiment-level object\n",
       "otu_table()   OTU Table:         [ 48190 taxa and 45 samples ]\n",
       "sample_data() Sample Data:       [ 45 samples by 5 sample variables ]\n",
       "tax_table()   Taxonomy Table:    [ 48190 taxa by 7 taxonomic ranks ]"
      ]
     },
     "metadata": {},
     "output_type": "display_data"
    }
   ],
   "source": [
    "#preparing the metadata table\n",
    "metadata_table <-  metadata_raw %>% \n",
    "                   dplyr::select_if(is.character) %>% \n",
    "                   dplyr::select(Sample_ID, estuary.reach, ecosystem, sediment.water) %>% \n",
    "                   dplyr::mutate_if(is.factor, as.character)  %>%\n",
    "                   distinct()\n",
    "row.names(metadata_table) <- metadata_table$Sample_ID\n",
    "#add sediment metadata as it gets lost during merge\n",
    "(merged_sediment_ps <- merge_phyloseq(merged_ps, sample_data(metadata_table)))"
   ]
  },
  {
   "cell_type": "code",
   "execution_count": 8,
   "id": "8a0cd90b-07e0-4d3d-be42-228a8e15cabe",
   "metadata": {},
   "outputs": [
    {
     "name": "stderr",
     "output_type": "stream",
     "text": [
      "Warning message:\n",
      "\"\u001b[1m\u001b[22mExpected 7 pieces. Missing pieces filled with `NA` in 1552 rows [1, 2, 4, 5, 6, 8, 12, 13, 15, 16, 17, 19, 20, 24, 25, 26, 27, 28, 29, 30, ...].\"\n"
     ]
    }
   ],
   "source": [
    "#water data\n",
    "metadata_water <-   read.table(file = \"water//sample-metadata.tsv\", sep = \"\\t\", header =  T) %>%\n",
    "                    dplyr::mutate(sample_ref = sample.id)  %>%\n",
    "                    tidyr::separate(sample_ref, into = c(\"read_prefix\", \"Sample_ID\"), sep =  \"[.]\") %>%\n",
    "                    select(sample.id, Sample_ID, estuary.reach,\tecosystem, sediment.water) \n",
    "row.names(metadata_water) <- metadata_water$sample.id\n",
    "otu_water <- read.table(file = \"water//feature-table.tsv\", sep = \"\\t\", header = T, row.names = 1, skip = 1, comment.char = \"\")\n",
    "tax_water_raw <- read.table(file = \"water//taxonomy.tsv\", sep = \"\\t\", header = T ,row.names = 1)\n",
    "tax_water <- tax_water_raw %>% \n",
    "             tidyr::separate(Taxon, c(\"Kingdom\", \"Phylum\", \"Class\", \"Order\", \"Family\", \"Genus\", \"Species\"), sep = \"; \") %>%\n",
    "             dplyr::mutate(across(1:7, ~ stringr::str_replace_all(.x, \"^[dkpcofgs]__\",\"\"))) %>%\n",
    "             dplyr::select(1:7)"
   ]
  },
  {
   "cell_type": "code",
   "execution_count": 9,
   "id": "956d029e-a1bb-43ec-b619-73e8bc757719",
   "metadata": {},
   "outputs": [
    {
     "data": {
      "text/plain": [
       "phyloseq-class experiment-level object\n",
       "otu_table()   OTU Table:         [ 3636 taxa and 9 samples ]\n",
       "sample_data() Sample Data:       [ 9 samples by 5 sample variables ]\n",
       "tax_table()   Taxonomy Table:    [ 3636 taxa by 7 taxonomic ranks ]"
      ]
     },
     "metadata": {},
     "output_type": "display_data"
    }
   ],
   "source": [
    "OTU_water <- otu_table(as.matrix(otu_water), taxa_are_rows = TRUE)\n",
    "TAX_water <- tax_table(as.matrix(tax_water))\n",
    "SAMPLE_water <- sample_data(metadata_water)\n",
    "#phyloseq for water\n",
    "(water_ps <- phyloseq(OTU_water, TAX_water, SAMPLE_water))"
   ]
  },
  {
   "cell_type": "code",
   "execution_count": 10,
   "id": "78a799b8-7c21-44b7-b900-d4b8a68bd136",
   "metadata": {},
   "outputs": [],
   "source": [
    "#https://microbiome.github.io/OMA/microbiome-exploration.html\n",
    "#each class now has its own uuids\n",
    "glom_sediment_ps <- phyloseq::tax_glom(merged_sediment_ps, taxrank = \"Class\")"
   ]
  },
  {
   "cell_type": "code",
   "execution_count": 11,
   "id": "657f10f7-d5c5-478f-9826-93c9060aa38c",
   "metadata": {},
   "outputs": [],
   "source": [
    "#These abitrary can play around with to find a good cuttoff\n",
    "#This ensures that we drop any rare tax will low abundance and not prevalent in all the classes  \n",
    "sediment_classes <- core_members(glom_sediment_ps,\n",
    "                    detection = 0.001, #% relative abundance \n",
    "                    prevalence = 0.25) #% of the samples"
   ]
  },
  {
   "cell_type": "code",
   "execution_count": 12,
   "id": "f1a0cbef-5da1-4092-aa33-191db2a6a95a",
   "metadata": {},
   "outputs": [
    {
     "data": {
      "text/plain": [
       "phyloseq-class experiment-level object\n",
       "otu_table()   OTU Table:         [ 207 taxa and 45 samples ]\n",
       "sample_data() Sample Data:       [ 45 samples by 5 sample variables ]\n",
       "tax_table()   Taxonomy Table:    [ 207 taxa by 7 taxonomic ranks ]"
      ]
     },
     "metadata": {},
     "output_type": "display_data"
    }
   ],
   "source": [
    "glom_sediment_ps"
   ]
  },
  {
   "cell_type": "code",
   "execution_count": 13,
   "id": "e1b1a774-536b-425d-83ab-db7289584ad8",
   "metadata": {},
   "outputs": [
    {
     "data": {
      "text/plain": [
       "phyloseq-class experiment-level object\n",
       "otu_table()   OTU Table:         [ 167 taxa and 45 samples ]\n",
       "sample_data() Sample Data:       [ 45 samples by 5 sample variables ]\n",
       "tax_table()   Taxonomy Table:    [ 167 taxa by 7 taxonomic ranks ]"
      ]
     },
     "metadata": {},
     "output_type": "display_data"
    }
   ],
   "source": [
    "#We keep those taxa meeting our criteria we lose a few classes but thats okay\n",
    "(filtered_sediment_ps <- subset_taxa(glom_sediment_ps, colnames(otu_table(glom_sediment_ps)) %in% sediment_classes))"
   ]
  },
  {
   "cell_type": "code",
   "execution_count": 14,
   "id": "0723146a-6def-4ec2-b979-3f4829ffd594",
   "metadata": {},
   "outputs": [
    {
     "data": {
      "text/plain": [
       "phyloseq-class experiment-level object\n",
       "otu_table()   OTU Table:         [ 128 taxa and 9 samples ]\n",
       "sample_data() Sample Data:       [ 9 samples by 5 sample variables ]\n",
       "tax_table()   Taxonomy Table:    [ 128 taxa by 7 taxonomic ranks ]"
      ]
     },
     "metadata": {},
     "output_type": "display_data"
    }
   ],
   "source": [
    "#combine counts at the Class level \n",
    "#we can also remove rare samples here as well...\n",
    "(glom_water_ps <- phyloseq::tax_glom(water_ps, taxrank = \"Class\"))"
   ]
  },
  {
   "cell_type": "code",
   "execution_count": 15,
   "id": "5ee27237-21fc-4dd6-9980-00e137b9b65b",
   "metadata": {},
   "outputs": [],
   "source": [
    "water_classes <- data.frame(tax_table(glom_water_ps))$Class\n",
    "sediment_classes <- data.frame(tax_table(filtered_sediment_ps))$Class"
   ]
  },
  {
   "cell_type": "code",
   "execution_count": 16,
   "id": "b46750c8-970b-4437-ad66-78698153cc0f",
   "metadata": {},
   "outputs": [
    {
     "data": {
      "text/plain": [
       "phyloseq-class experiment-level object\n",
       "otu_table()   OTU Table:         [ 42 taxa and 45 samples ]\n",
       "sample_data() Sample Data:       [ 45 samples by 5 sample variables ]\n",
       "tax_table()   Taxonomy Table:    [ 42 taxa by 7 taxonomic ranks ]"
      ]
     },
     "metadata": {},
     "output_type": "display_data"
    }
   ],
   "source": [
    "#Moment of truth \n",
    "#We check the for those sediment classes not in water\n",
    "`%nin%` <- Negate(`%in%`)\n",
    "(core_sediment_classes <- subset_taxa(filtered_sediment_ps, sediment_classes %nin% water_classes))"
   ]
  },
  {
   "cell_type": "code",
   "execution_count": 17,
   "id": "4759cd3d-72c6-4b08-b49a-ba7cfd7cae5e",
   "metadata": {},
   "outputs": [],
   "source": [
    "##Prevalence is a measurement, which describes in how many samples certain microbes were detected.\n",
    "#Detection threshold for absence/presence (strictly greater by default).\n",
    "#https://f1000research.com/articles/5-1492/v2\n",
    "# Compute prevalence of each feature, store as data.frame\n",
    "prevdf = apply(X = otu_table(core_sediment_classes),\n",
    "                 MARGIN = ifelse(taxa_are_rows(core_sediment_classes), yes = 1, no = 2),\n",
    "                 FUN = function(x){sum(x > 0)})\n",
    "#Add taxonomy and total read counts to this data.frame\n",
    "prevdf = data.frame(N_samples = prevdf,\n",
    "                     Perc_Prev = prevdf/nsamples(core_sediment_classes),\n",
    "                     TotalAbundance = taxa_sums(core_sediment_classes),\n",
    "                     PercAbundance =  taxa_sums(core_sediment_classes)/sum(taxa_sums(core_sediment_classes)),\n",
    "                     tax_table(core_sediment_classes)) %>% \n",
    "                     arrange(desc(PercAbundance)) %>%\n",
    "                     dplyr::mutate(Class = factor(Class, level= rev(Class)))"
   ]
  },
  {
   "cell_type": "code",
   "execution_count": 21,
   "id": "55aa7161-de10-4348-bd65-d0bc277d004f",
   "metadata": {},
   "outputs": [
    {
     "name": "stderr",
     "output_type": "stream",
     "text": [
      "Using Class as id variables\n",
      "\n"
     ]
    },
    {
     "data": {
      "image/png": "[encoded data removed]",
      "text/plain": [
       "plot without title"
      ]
     },
     "metadata": {
      "image/png": {
       "height": 420,
       "width": 420
      }
     },
     "output_type": "display_data"
    }
   ],
   "source": [
    "prevdf %>%\n",
    "dplyr::select(Class,PercAbundance, N_samples, ) %>%\n",
    "reshape2::melt() %>%\n",
    "ggplot(aes(x = Class, y  = value)) +\n",
    "geom_bar(stat =\"identity\") +\n",
    "coord_flip() + \n",
    "facet_wrap(~variable, scale = \"free_x\")"
   ]
  },
  {
   "cell_type": "code",
   "execution_count": 19,
   "id": "c613a5e7-d871-4aab-8294-e8768992af5d",
   "metadata": {},
   "outputs": [
    {
     "name": "stdout",
     "output_type": "stream",
     "text": [
      " [1] \"0.1%\"               \"0.139440490670355%\" \"0.194436504383895%\"\n",
      " [4] \"0.271123215755189%\" \"0.378055542370282%\" \"0.527162503287594%\"\n",
      " [7] \"0.73507798121435%\"  \"1.02499634381503%\"  \"1.42925993116888%\" \n",
      "[10] \"1.99296706097667%\"  \"2.77900304872443%\"  \"3.87505548688548%\" \n",
      "[13] \"5.40339638466164%\"  \"7.53452243163643%\"  \"10.5061750483418%\" \n",
      "[16] \"14.6498620380943%\"  \"20.4278395084488%\"  \"28.4846796439337%\" \n"
     ]
    },
    {
     "data": {
      "image/png": "[encoded data removed]",
      "text/plain": [
       "plot without title"
      ]
     },
     "metadata": {
      "image/png": {
       "height": 420,
       "width": 420
      }
     },
     "output_type": "display_data"
    }
   ],
   "source": [
    "#https://microbiome.github.io/tutorials/Core.html\n",
    "# Core with absolute counts and horizontal view:\n",
    "# and minimum population prevalence (given as percentage)\n",
    "pseq_rel <- microbiome::transform(core_sediment_classes, \"compositional\")\n",
    "\n",
    "#detections <- seq(from = 50, to = round(max(abundances(pseq_rel))/10, -1), by = 100)\n",
    "prevalences <- seq(.05, 1, .05)\n",
    "\n",
    "#very strange plot but can be reproduced in pure ggplot\n",
    "plot_core(pseq_rel, plot.type = \"heatmap\",\n",
    "            colours = rev(brewer.pal(5, \"Spectral\")),\n",
    "               min.prevalence = .2, horizontal = TRUE) +\n",
    "  theme(axis.text.x= element_text(size=8, face=\"italic\", hjust=1),\n",
    "        axis.text.y= element_text(size=8),\n",
    "        axis.title = element_text(size=10),\n",
    "        legend.text = element_text(size=8),\n",
    "        legend.title = element_text(size=10))\n",
    "\n"
   ]
  },
  {
   "cell_type": "code",
   "execution_count": null,
   "id": "ef19d480-85d8-47cd-a1d3-41fdc0ec2958",
   "metadata": {},
   "outputs": [],
   "source": []
  }
 ],
 "metadata": {
  "kernelspec": {
   "display_name": "R",
   "language": "R",
   "name": "ir"
  },
  "language_info": {
   "codemirror_mode": "r",
   "file_extension": ".r",
   "mimetype": "text/x-r-source",
   "name": "R",
   "pygments_lexer": "r",
   "version": "4.1.3"
  }
 },
 "nbformat": 4,
 "nbformat_minor": 5
}
